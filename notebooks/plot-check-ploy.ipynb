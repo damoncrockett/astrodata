{
 "cells": [
  {
   "cell_type": "code",
   "execution_count": 1,
   "metadata": {
    "collapsed": true
   },
   "outputs": [],
   "source": [
    "import pandas as pd"
   ]
  },
  {
   "cell_type": "code",
   "execution_count": 2,
   "metadata": {
    "collapsed": true
   },
   "outputs": [],
   "source": [
    "df = pd.read_csv(\"./poly_clean.csv\")"
   ]
  },
  {
   "cell_type": "code",
   "execution_count": 3,
   "metadata": {
    "collapsed": true
   },
   "outputs": [],
   "source": [
    "DIR = \"/Users/damoncrockett/Desktop/astrophotography_data/\""
   ]
  },
  {
   "cell_type": "code",
   "execution_count": 4,
   "metadata": {
    "collapsed": true
   },
   "outputs": [],
   "source": [
    "from PIL import Image, ImageDraw\n",
    "import numpy as np\n",
    "import math"
   ]
  },
  {
   "cell_type": "code",
   "execution_count": 5,
   "metadata": {
    "collapsed": false
   },
   "outputs": [],
   "source": [
    "tags = list(df.columns[15:])"
   ]
  },
  {
   "cell_type": "code",
   "execution_count": 6,
   "metadata": {
    "collapsed": false
   },
   "outputs": [],
   "source": [
    "tags = tags[:6]"
   ]
  },
  {
   "cell_type": "code",
   "execution_count": 7,
   "metadata": {
    "collapsed": true
   },
   "outputs": [],
   "source": [
    "idxs = []\n",
    "for tag in tags:\n",
    "    subset = df[df[tag]==True]\n",
    "    subset_idxs = list(subset.index)\n",
    "    idxs.append(subset_idxs)"
   ]
  },
  {
   "cell_type": "code",
   "execution_count": 8,
   "metadata": {
    "collapsed": false
   },
   "outputs": [],
   "source": [
    "idxs = [item for sublist in idxs for item in sublist]\n",
    "idxs = list(set(list(idxs)))"
   ]
  },
  {
   "cell_type": "code",
   "execution_count": 9,
   "metadata": {
    "collapsed": false
   },
   "outputs": [],
   "source": [
    "astro = []\n",
    "for i in range(len(df)):\n",
    "    if i not in idxs:\n",
    "        astro.append(i)"
   ]
  },
  {
   "cell_type": "code",
   "execution_count": 10,
   "metadata": {
    "collapsed": false
   },
   "outputs": [],
   "source": [
    "tmp = df.loc[astro]"
   ]
  },
  {
   "cell_type": "code",
   "execution_count": 17,
   "metadata": {
    "collapsed": false
   },
   "outputs": [
    {
     "data": {
      "text/plain": [
       "Index([u'local_path', u'basename', u'id', u'user_nid', u'date_taken',\n",
       "       u'date_uploaded', u'capture_device', u'title', u'descr', u'user_tags',\n",
       "       u'lon', u'lat', u'accuracy', u'dl_url', u'ext', u'astrophotography',\n",
       "       u'astrofotografija', u'astrofotografia', u'astrofotografie',\n",
       "       u'astrophotographie', u'astrofotografi', u'astro'],\n",
       "      dtype='object')"
      ]
     },
     "execution_count": 17,
     "metadata": {},
     "output_type": "execute_result"
    }
   ],
   "source": [
    "tmp.columns"
   ]
  },
  {
   "cell_type": "code",
   "execution_count": 59,
   "metadata": {
    "collapsed": false
   },
   "outputs": [],
   "source": [
    "var = \"user_nid\""
   ]
  },
  {
   "cell_type": "code",
   "execution_count": 60,
   "metadata": {
    "collapsed": true
   },
   "outputs": [],
   "source": [
    "tmp.sort(var,ascending=False,inplace=True)\n",
    "tmp.reset_index(drop=True,inplace=True)\n",
    "n = len(tmp)\n",
    "\n",
    "grid_side = int(math.ceil( np.sqrt(n) ))\n",
    "\n",
    "x,y = range(grid_side) * grid_side, np.repeat(range(grid_side),grid_side)\n",
    "tmp['x'] = x[:n]\n",
    "tmp['y'] = y[:n]"
   ]
  },
  {
   "cell_type": "code",
   "execution_count": 61,
   "metadata": {
    "collapsed": true
   },
   "outputs": [],
   "source": [
    "thumb_side = 128\n",
    "\n",
    "px_w = thumb_side * grid_side\n",
    "px_h = thumb_side * grid_side\n",
    "\n",
    "canvas = Image.new('RGB',(px_w,px_h),(50,50,50))"
   ]
  },
  {
   "cell_type": "code",
   "execution_count": 62,
   "metadata": {
    "collapsed": false
   },
   "outputs": [
    {
     "name": "stdout",
     "output_type": "stream",
     "text": [
      "invalid literal for int() with base 10: 'U'\n",
      "invalid literal for int() with base 10: 'U'\n"
     ]
    }
   ],
   "source": [
    "for i in range(n):\n",
    "    im = Image.open(tmp.local_path.loc[i])\n",
    "    im.thumbnail((thumb_side,thumb_side),Image.ANTIALIAS)\n",
    "    \n",
    "    pos = (7,7)\n",
    "    draw = ImageDraw.Draw(im)\n",
    "    try:\n",
    "        draw.text(pos, str(int(i)), fill=\"white\")\n",
    "    except Exception as e:\n",
    "        print e\n",
    "    \n",
    "    x_coord = tmp.x.loc[i] * thumb_side\n",
    "    y_coord = tmp.y.loc[i] * thumb_side\n",
    "    \n",
    "    canvas.paste(im,(x_coord,y_coord))\n",
    "\n",
    "canvas.save(DIR+\"astro_check.png\")"
   ]
  },
  {
   "cell_type": "code",
   "execution_count": null,
   "metadata": {
    "collapsed": true
   },
   "outputs": [],
   "source": [
    "# Ok here's the list of actual astro shots:"
   ]
  },
  {
   "cell_type": "code",
   "execution_count": 63,
   "metadata": {
    "collapsed": true
   },
   "outputs": [],
   "source": [
    "l = [2,3,16,41,42,43,44,45,46,47,48,67,70,71,72,73,76,77,80,84,85,86,87,150,152,153,154,155,156,158,163,164,165,166,167,168,169,187,188,189,190,195,196,197,205,206,212,214,229,268,269,287,288,289,290,291,292,293,294,295,296,297,298,299,308,677,678,679,680,681,682,683,684,685,686,687,689,698,740,743,744,745,746,747,748,749,750,751,752,753,754,755,756,757,758,770,771,772,773,774,775,776,777,778,779,780,781,782,783,784,785,786,787,788,789,790,791,792,796,798,800,801,802,803,804,805,808,809,810,814,815,817,827,831,832,833,838,839,840,841,847,849,851,852,853,854,855,856,857,858,863,867,868,869,870,871,872,874,877,878,879,880,881,883,927,928,929,930,931,940,941,942,951,952,958,974,1016,1017,1018,1019,1023,1024,1025,1028,1031,1032,1033,1034,1038,1039,1043,1044,1045,1046,1047,1048,1049,1054,1057,1058,1059,1060,1061,1062,1063,1064,1065,1066,1067,1068,1091,1092,1093,1094,1095,1096,1097,1098,1099,1100,1101,1102,1107,1008,1109,1110,1111,1113,1114,1119,1120,1143,1145,1146,1147,1148,1149,1150,1151,1152,1153,1154,1155,1156,1157,1158,1159,1160,1161,1164,1165,1166,1167,1168,1169,1170,1171,1172,1173,1174,1175,1176,1177,1178,1179,1180,1181,1182,1183,1184,1185,1186,1187,1188,1196,1197,1198,1199,1201,1202,1204,1240,1241,1245,1246,1247,1248,1249,1250,1251,1252,1253,1255,1256,1257,1259,1260,1261,1262,1264,1267,1269,1271,1272,1273,1274,1275,1276,1277,1278,1279,1280,1281,1282,1283,1284,1285,1286,1287,1288,1289,1290,1291,1292,1293,1294,1295,1301,1303,1304,1311,1312,1313,1316,1318,1319,1321,1322,1323,1324,1325,1331,1334,1335,1338,1383,1394,1398,1399,1401,1402,1416,1417,1418,1419,1430,1431,1434,1435,1436,1437,1438,1439,1456,1463,1464,1466,1467,1468,1469,1470,1471,1472,1473,1474,1475,1476,1483,1484,1485,1504,1505,1506,1507,1510,1555,1556,1557,1558,1559,1618,1620,1621,1622,1623,1624,1625,1626,1627,1628,1629,1642,1643,1671,1672,1673,1674,1676,1707,1713,1715,1716,1717,1725,1726,1735,1736,1737,1740,1741,1742,1743,1744,1745,1746,1760,1763]"
   ]
  },
  {
   "cell_type": "code",
   "execution_count": 64,
   "metadata": {
    "collapsed": false
   },
   "outputs": [
    {
     "data": {
      "text/plain": [
       "1800"
      ]
     },
     "execution_count": 64,
     "metadata": {},
     "output_type": "execute_result"
    }
   ],
   "source": [
    "len(tmp)"
   ]
  },
  {
   "cell_type": "code",
   "execution_count": 65,
   "metadata": {
    "collapsed": false
   },
   "outputs": [
    {
     "data": {
      "text/plain": [
       "427"
      ]
     },
     "execution_count": 65,
     "metadata": {},
     "output_type": "execute_result"
    }
   ],
   "source": [
    "len(l)"
   ]
  },
  {
   "cell_type": "code",
   "execution_count": 66,
   "metadata": {
    "collapsed": true
   },
   "outputs": [],
   "source": [
    "astro_actual = tmp.loc[l]"
   ]
  },
  {
   "cell_type": "code",
   "execution_count": 67,
   "metadata": {
    "collapsed": false
   },
   "outputs": [
    {
     "name": "stdout",
     "output_type": "stream",
     "text": [
      "<class 'pandas.core.frame.DataFrame'>\n",
      "Int64Index: 427 entries, 2 to 1763\n",
      "Data columns (total 24 columns):\n",
      "local_path           427 non-null object\n",
      "basename             427 non-null object\n",
      "id                   427 non-null int64\n",
      "user_nid             427 non-null object\n",
      "date_taken           427 non-null object\n",
      "date_uploaded        427 non-null int64\n",
      "capture_device       325 non-null object\n",
      "title                423 non-null object\n",
      "descr                292 non-null object\n",
      "user_tags            427 non-null object\n",
      "lon                  266 non-null float64\n",
      "lat                  266 non-null float64\n",
      "accuracy             266 non-null float64\n",
      "dl_url               427 non-null object\n",
      "ext                  427 non-null object\n",
      "astrophotography     427 non-null bool\n",
      "astrofotografija     427 non-null bool\n",
      "astrofotografia      427 non-null bool\n",
      "astrofotografie      427 non-null bool\n",
      "astrophotographie    427 non-null bool\n",
      "astrofotografi       427 non-null bool\n",
      "astro                427 non-null bool\n",
      "x                    427 non-null int64\n",
      "y                    427 non-null int64\n",
      "dtypes: bool(7), float64(3), int64(4), object(10)\n",
      "memory usage: 63.0+ KB\n"
     ]
    }
   ],
   "source": [
    "astro_actual.info()"
   ]
  },
  {
   "cell_type": "code",
   "execution_count": 68,
   "metadata": {
    "collapsed": true
   },
   "outputs": [],
   "source": [
    "del astro_actual['x']\n",
    "del astro_actual['y']"
   ]
  },
  {
   "cell_type": "code",
   "execution_count": 69,
   "metadata": {
    "collapsed": true
   },
   "outputs": [],
   "source": [
    "non_astro = df.loc[idxs]"
   ]
  },
  {
   "cell_type": "code",
   "execution_count": 70,
   "metadata": {
    "collapsed": false
   },
   "outputs": [
    {
     "name": "stdout",
     "output_type": "stream",
     "text": [
      "<class 'pandas.core.frame.DataFrame'>\n",
      "Int64Index: 5740 entries, 1 to 7539\n",
      "Data columns (total 22 columns):\n",
      "local_path           5740 non-null object\n",
      "basename             5740 non-null object\n",
      "id                   5740 non-null int64\n",
      "user_nid             5740 non-null object\n",
      "date_taken           5740 non-null object\n",
      "date_uploaded        5740 non-null int64\n",
      "capture_device       3752 non-null object\n",
      "title                5717 non-null object\n",
      "descr                4389 non-null object\n",
      "user_tags            5740 non-null object\n",
      "lon                  4197 non-null float64\n",
      "lat                  4197 non-null float64\n",
      "accuracy             4197 non-null float64\n",
      "dl_url               5740 non-null object\n",
      "ext                  5740 non-null object\n",
      "astrophotography     5740 non-null bool\n",
      "astrofotografija     5740 non-null bool\n",
      "astrofotografia      5740 non-null bool\n",
      "astrofotografie      5740 non-null bool\n",
      "astrophotographie    5740 non-null bool\n",
      "astrofotografi       5740 non-null bool\n",
      "astro                5740 non-null bool\n",
      "dtypes: bool(7), float64(3), int64(2), object(10)\n",
      "memory usage: 756.7+ KB\n"
     ]
    }
   ],
   "source": [
    "non_astro.info()"
   ]
  },
  {
   "cell_type": "code",
   "execution_count": 71,
   "metadata": {
    "collapsed": true
   },
   "outputs": [],
   "source": [
    "all_actual = non_astro.append(astro_actual)"
   ]
  },
  {
   "cell_type": "code",
   "execution_count": 72,
   "metadata": {
    "collapsed": false
   },
   "outputs": [
    {
     "name": "stdout",
     "output_type": "stream",
     "text": [
      "<class 'pandas.core.frame.DataFrame'>\n",
      "Int64Index: 6167 entries, 1 to 1763\n",
      "Data columns (total 22 columns):\n",
      "local_path           6167 non-null object\n",
      "basename             6167 non-null object\n",
      "id                   6167 non-null int64\n",
      "user_nid             6167 non-null object\n",
      "date_taken           6167 non-null object\n",
      "date_uploaded        6167 non-null int64\n",
      "capture_device       4077 non-null object\n",
      "title                6140 non-null object\n",
      "descr                4681 non-null object\n",
      "user_tags            6167 non-null object\n",
      "lon                  4463 non-null float64\n",
      "lat                  4463 non-null float64\n",
      "accuracy             4463 non-null float64\n",
      "dl_url               6167 non-null object\n",
      "ext                  6167 non-null object\n",
      "astrophotography     6167 non-null bool\n",
      "astrofotografija     6167 non-null bool\n",
      "astrofotografia      6167 non-null bool\n",
      "astrofotografie      6167 non-null bool\n",
      "astrophotographie    6167 non-null bool\n",
      "astrofotografi       6167 non-null bool\n",
      "astro                6167 non-null bool\n",
      "dtypes: bool(7), float64(3), int64(2), object(10)\n",
      "memory usage: 813.0+ KB\n"
     ]
    }
   ],
   "source": [
    "all_actual.info()"
   ]
  },
  {
   "cell_type": "code",
   "execution_count": 73,
   "metadata": {
    "collapsed": true
   },
   "outputs": [],
   "source": [
    "all_actual.reset_index(drop=True,inplace=True)"
   ]
  },
  {
   "cell_type": "code",
   "execution_count": 74,
   "metadata": {
    "collapsed": true
   },
   "outputs": [],
   "source": [
    "tmp = all_actual"
   ]
  },
  {
   "cell_type": "code",
   "execution_count": 75,
   "metadata": {
    "collapsed": false
   },
   "outputs": [
    {
     "name": "stdout",
     "output_type": "stream",
     "text": [
      "invalid literal for int() with base 10: 'U'\n",
      "invalid literal for int() with base 10: 'U'\n"
     ]
    }
   ],
   "source": [
    "tmp.sort(var,ascending=False,inplace=True)\n",
    "tmp.reset_index(drop=True,inplace=True)\n",
    "n = len(tmp)\n",
    "\n",
    "grid_side = int(math.ceil( np.sqrt(n) ))\n",
    "\n",
    "x,y = range(grid_side) * grid_side, np.repeat(range(grid_side),grid_side)\n",
    "tmp['x'] = x[:n]\n",
    "tmp['y'] = y[:n]\n",
    "\n",
    "thumb_side = 128\n",
    "\n",
    "px_w = thumb_side * grid_side\n",
    "px_h = thumb_side * grid_side\n",
    "\n",
    "canvas = Image.new('RGB',(px_w,px_h),(50,50,50))\n",
    "\n",
    "for i in range(n):\n",
    "    im = Image.open(tmp.local_path.loc[i])\n",
    "    im.thumbnail((thumb_side,thumb_side),Image.ANTIALIAS)\n",
    "    \n",
    "    pos = (7,7)\n",
    "    draw = ImageDraw.Draw(im)\n",
    "    try:\n",
    "        draw.text(pos, str(int(i)), fill=\"white\")\n",
    "    except Exception as e:\n",
    "        print e\n",
    "    \n",
    "    x_coord = tmp.x.loc[i] * thumb_side\n",
    "    y_coord = tmp.y.loc[i] * thumb_side\n",
    "    \n",
    "    canvas.paste(im,(x_coord,y_coord))\n",
    "\n",
    "canvas.save(DIR+\"all_actual_check.png\")"
   ]
  },
  {
   "cell_type": "code",
   "execution_count": 76,
   "metadata": {
    "collapsed": true
   },
   "outputs": [],
   "source": [
    "missing_images = [279,305,307,416,417,418,419,420,421,422,423,424,425,426,427,428,429,430,431,432,433,434,435,436,437,441,442,443,444,445,446,447,448,449,450,451,452,453,705,774,1004,1521,1597,1615,1647,1650,1651,1652,1653,1654,1655,1656,1660,1661,1662,1663,1674,1677,1683,1686,1687,1688,1691,1692,1693,1694,1695,1696,1697,1698,1699,1702,1703,1705,1706,1707,1708,1709,1712,1713,1714,1715,1716,1717,1718,1752,1799,1802,2129,2130,2131,2132,2133,2134,2136,2137,2138,2139,2140,2141,2142,2143,2144,2145,2146,2147,2148,2149,2150,2151,2152,2153,2154,2155,2156,2157,2158,2159,2162,2485,2486,2515,2654,2655,2663,2801,2819,2823,2904,2997,2999,3000,3021,3056,3230,3231,3232,3233,3234,3235,4135,4136,4137,4138,4139,4140,4141,4195,4220,4234,4272,4290,4560,4814,4816,4817,4818,5041,5048,5433,5434,5435,5438,5440,5441,5442,5443,5448,5451,5452,5457,5458,5460,5461,5463,5464,5741,5785,5854,5947,5949,6025,5980,6145]"
   ]
  },
  {
   "cell_type": "code",
   "execution_count": 78,
   "metadata": {
    "collapsed": true
   },
   "outputs": [],
   "source": [
    "del all_actual['x']\n",
    "del all_actual['y']"
   ]
  },
  {
   "cell_type": "code",
   "execution_count": 80,
   "metadata": {
    "collapsed": false
   },
   "outputs": [],
   "source": [
    "for i in range(len(all_actual)):\n",
    "    if i in missing_images:\n",
    "        all_actual = all_actual.drop(i)"
   ]
  },
  {
   "cell_type": "code",
   "execution_count": 82,
   "metadata": {
    "collapsed": false
   },
   "outputs": [
    {
     "name": "stdout",
     "output_type": "stream",
     "text": [
      "<class 'pandas.core.frame.DataFrame'>\n",
      "Int64Index: 5983 entries, 0 to 6166\n",
      "Data columns (total 22 columns):\n",
      "local_path           5983 non-null object\n",
      "basename             5983 non-null object\n",
      "id                   5983 non-null int64\n",
      "user_nid             5983 non-null object\n",
      "date_taken           5983 non-null object\n",
      "date_uploaded        5983 non-null int64\n",
      "capture_device       3927 non-null object\n",
      "title                5958 non-null object\n",
      "descr                4547 non-null object\n",
      "user_tags            5983 non-null object\n",
      "lon                  4357 non-null float64\n",
      "lat                  4357 non-null float64\n",
      "accuracy             4357 non-null float64\n",
      "dl_url               5983 non-null object\n",
      "ext                  5983 non-null object\n",
      "astrophotography     5983 non-null bool\n",
      "astrofotografija     5983 non-null bool\n",
      "astrofotografia      5983 non-null bool\n",
      "astrofotografie      5983 non-null bool\n",
      "astrophotographie    5983 non-null bool\n",
      "astrofotografi       5983 non-null bool\n",
      "astro                5983 non-null bool\n",
      "dtypes: bool(7), float64(3), int64(2), object(10)\n",
      "memory usage: 788.8+ KB\n"
     ]
    }
   ],
   "source": [
    "all_actual.info()"
   ]
  },
  {
   "cell_type": "code",
   "execution_count": 83,
   "metadata": {
    "collapsed": true
   },
   "outputs": [],
   "source": [
    "all_actual.reset_index(drop=True,inplace=True)"
   ]
  },
  {
   "cell_type": "code",
   "execution_count": 84,
   "metadata": {
    "collapsed": false
   },
   "outputs": [
    {
     "name": "stdout",
     "output_type": "stream",
     "text": [
      "<class 'pandas.core.frame.DataFrame'>\n",
      "Int64Index: 5983 entries, 0 to 5982\n",
      "Data columns (total 22 columns):\n",
      "local_path           5983 non-null object\n",
      "basename             5983 non-null object\n",
      "id                   5983 non-null int64\n",
      "user_nid             5983 non-null object\n",
      "date_taken           5983 non-null object\n",
      "date_uploaded        5983 non-null int64\n",
      "capture_device       3927 non-null object\n",
      "title                5958 non-null object\n",
      "descr                4547 non-null object\n",
      "user_tags            5983 non-null object\n",
      "lon                  4357 non-null float64\n",
      "lat                  4357 non-null float64\n",
      "accuracy             4357 non-null float64\n",
      "dl_url               5983 non-null object\n",
      "ext                  5983 non-null object\n",
      "astrophotography     5983 non-null bool\n",
      "astrofotografija     5983 non-null bool\n",
      "astrofotografia      5983 non-null bool\n",
      "astrofotografie      5983 non-null bool\n",
      "astrophotographie    5983 non-null bool\n",
      "astrofotografi       5983 non-null bool\n",
      "astro                5983 non-null bool\n",
      "dtypes: bool(7), float64(3), int64(2), object(10)\n",
      "memory usage: 788.8+ KB\n"
     ]
    }
   ],
   "source": [
    "all_actual.info()"
   ]
  },
  {
   "cell_type": "code",
   "execution_count": 85,
   "metadata": {
    "collapsed": true
   },
   "outputs": [],
   "source": [
    "tmp = all_actual"
   ]
  },
  {
   "cell_type": "code",
   "execution_count": 86,
   "metadata": {
    "collapsed": true
   },
   "outputs": [],
   "source": [
    "tmp.sort(var,ascending=False,inplace=True)\n",
    "tmp.reset_index(drop=True,inplace=True)\n",
    "n = len(tmp)\n",
    "\n",
    "grid_side = int(math.ceil( np.sqrt(n) ))\n",
    "\n",
    "x,y = range(grid_side) * grid_side, np.repeat(range(grid_side),grid_side)\n",
    "tmp['x'] = x[:n]\n",
    "tmp['y'] = y[:n]\n",
    "\n",
    "thumb_side = 128\n",
    "\n",
    "px_w = thumb_side * grid_side\n",
    "px_h = thumb_side * grid_side\n",
    "\n",
    "canvas = Image.new('RGB',(px_w,px_h),(50,50,50))\n",
    "\n",
    "for i in range(n):\n",
    "    im = Image.open(tmp.local_path.loc[i])\n",
    "    im.thumbnail((thumb_side,thumb_side),Image.ANTIALIAS)\n",
    "    \n",
    "    pos = (7,7)\n",
    "    draw = ImageDraw.Draw(im)\n",
    "    try:\n",
    "        draw.text(pos, str(int(i)), fill=\"white\")\n",
    "    except Exception as e:\n",
    "        print e\n",
    "    \n",
    "    x_coord = tmp.x.loc[i] * thumb_side\n",
    "    y_coord = tmp.y.loc[i] * thumb_side\n",
    "    \n",
    "    canvas.paste(im,(x_coord,y_coord))\n",
    "\n",
    "canvas.save(DIR+\"all_actual_check_final.png\")"
   ]
  },
  {
   "cell_type": "code",
   "execution_count": 87,
   "metadata": {
    "collapsed": true
   },
   "outputs": [],
   "source": [
    "blank = [1481,1555,1556,1557,1558,1559,1560,1561,1562,1563,1563,1564,1565,1566,1567,1568,1569,1570,1571,2041,2042]"
   ]
  },
  {
   "cell_type": "code",
   "execution_count": 88,
   "metadata": {
    "collapsed": true
   },
   "outputs": [],
   "source": [
    "del all_actual['x']\n",
    "del all_actual['y']"
   ]
  },
  {
   "cell_type": "code",
   "execution_count": 89,
   "metadata": {
    "collapsed": true
   },
   "outputs": [],
   "source": [
    "for i in range(len(all_actual)):\n",
    "    if i in blank:\n",
    "        all_actual = all_actual.drop(i)"
   ]
  },
  {
   "cell_type": "code",
   "execution_count": 90,
   "metadata": {
    "collapsed": true
   },
   "outputs": [],
   "source": [
    "all_actual.reset_index(drop=True,inplace=True)"
   ]
  },
  {
   "cell_type": "code",
   "execution_count": 91,
   "metadata": {
    "collapsed": true
   },
   "outputs": [],
   "source": [
    "tmp = all_actual"
   ]
  },
  {
   "cell_type": "code",
   "execution_count": 92,
   "metadata": {
    "collapsed": true
   },
   "outputs": [],
   "source": [
    "tmp.sort(var,ascending=False,inplace=True)\n",
    "tmp.reset_index(drop=True,inplace=True)\n",
    "n = len(tmp)\n",
    "\n",
    "grid_side = int(math.ceil( np.sqrt(n) ))\n",
    "\n",
    "x,y = range(grid_side) * grid_side, np.repeat(range(grid_side),grid_side)\n",
    "tmp['x'] = x[:n]\n",
    "tmp['y'] = y[:n]\n",
    "\n",
    "thumb_side = 128\n",
    "\n",
    "px_w = thumb_side * grid_side\n",
    "px_h = thumb_side * grid_side\n",
    "\n",
    "canvas = Image.new('RGB',(px_w,px_h),(50,50,50))\n",
    "\n",
    "for i in range(n):\n",
    "    im = Image.open(tmp.local_path.loc[i])\n",
    "    im.thumbnail((thumb_side,thumb_side),Image.ANTIALIAS)\n",
    "    \n",
    "    pos = (7,7)\n",
    "    draw = ImageDraw.Draw(im)\n",
    "    try:\n",
    "        draw.text(pos, str(int(i)), fill=\"white\")\n",
    "    except Exception as e:\n",
    "        print e\n",
    "    \n",
    "    x_coord = tmp.x.loc[i] * thumb_side\n",
    "    y_coord = tmp.y.loc[i] * thumb_side\n",
    "    \n",
    "    canvas.paste(im,(x_coord,y_coord))\n",
    "\n",
    "canvas.save(DIR+\"all_actual_check_finaler.png\")"
   ]
  },
  {
   "cell_type": "code",
   "execution_count": 93,
   "metadata": {
    "collapsed": true
   },
   "outputs": [],
   "source": [
    "all_actual = all_actual.drop(4863)"
   ]
  },
  {
   "cell_type": "code",
   "execution_count": 94,
   "metadata": {
    "collapsed": true
   },
   "outputs": [],
   "source": [
    "all_actual.reset_index(drop=True,inplace=True)"
   ]
  },
  {
   "cell_type": "code",
   "execution_count": 95,
   "metadata": {
    "collapsed": true
   },
   "outputs": [],
   "source": [
    "tmp = all_actual"
   ]
  },
  {
   "cell_type": "code",
   "execution_count": 98,
   "metadata": {
    "collapsed": true
   },
   "outputs": [],
   "source": [
    "tmp.sort(var,ascending=False,inplace=True)\n",
    "tmp.reset_index(drop=True,inplace=True)\n",
    "n = len(tmp)\n",
    "\n",
    "grid_side = int(math.ceil( np.sqrt(n) ))\n",
    "\n",
    "x,y = range(grid_side) * grid_side, np.repeat(range(grid_side),grid_side)\n",
    "tmp['x'] = x[:n]\n",
    "tmp['y'] = y[:n]\n",
    "\n",
    "thumb_side = 128\n",
    "\n",
    "px_w = thumb_side * grid_side\n",
    "px_h = thumb_side * grid_side\n",
    "\n",
    "canvas = Image.new('RGB',(px_w,px_h),(0,0,0))\n",
    "\n",
    "for i in range(n):\n",
    "    im = Image.open(tmp.local_path.loc[i])\n",
    "    im.thumbnail((thumb_side,thumb_side),Image.ANTIALIAS)\n",
    "    \n",
    "    x_coord = tmp.x.loc[i] * thumb_side\n",
    "    y_coord = tmp.y.loc[i] * thumb_side\n",
    "    \n",
    "    canvas.paste(im,(x_coord,y_coord))\n",
    "\n",
    "canvas.save(DIR+\"astro_by_user.png\")"
   ]
  },
  {
   "cell_type": "code",
   "execution_count": 97,
   "metadata": {
    "collapsed": true
   },
   "outputs": [],
   "source": [
    "all_actual.to_csv(\"./astro_tag.csv\",index=False)"
   ]
  },
  {
   "cell_type": "code",
   "execution_count": null,
   "metadata": {
    "collapsed": true
   },
   "outputs": [],
   "source": []
  }
 ],
 "metadata": {
  "kernelspec": {
   "display_name": "Python 2",
   "language": "python",
   "name": "python2"
  },
  "language_info": {
   "codemirror_mode": {
    "name": "ipython",
    "version": 2
   },
   "file_extension": ".py",
   "mimetype": "text/x-python",
   "name": "python",
   "nbconvert_exporter": "python",
   "pygments_lexer": "ipython2",
   "version": "2.7.10"
  }
 },
 "nbformat": 4,
 "nbformat_minor": 0
}
