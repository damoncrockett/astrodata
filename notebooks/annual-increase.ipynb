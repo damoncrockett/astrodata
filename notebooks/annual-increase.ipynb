{
 "cells": [
  {
   "cell_type": "code",
   "execution_count": 44,
   "metadata": {
    "collapsed": true
   },
   "outputs": [],
   "source": [
    "import pandas as pd"
   ]
  },
  {
   "cell_type": "code",
   "execution_count": 45,
   "metadata": {
    "collapsed": true
   },
   "outputs": [],
   "source": [
    "astro = pd.read_csv(\"./astro_tag_exif_autotags_clean_quality_datetimes_photo-url_views_faves_modeli.csv\")"
   ]
  },
  {
   "cell_type": "code",
   "execution_count": 46,
   "metadata": {
    "collapsed": false
   },
   "outputs": [
    {
     "data": {
      "text/plain": [
       "array([2012, 2007, 2010, 2009, 2008, 2013, 2006, 2014, 2011, 2005, 1997,\n",
       "       2004, 2001, 2003, 1994, 1998, 1999, 2002, 1996])"
      ]
     },
     "execution_count": 46,
     "metadata": {},
     "output_type": "execute_result"
    }
   ],
   "source": [
    "astro.year.unique()"
   ]
  },
  {
   "cell_type": "code",
   "execution_count": 47,
   "metadata": {
    "collapsed": false
   },
   "outputs": [
    {
     "data": {
      "text/plain": [
       "array([3, 2, 1, 4])"
      ]
     },
     "execution_count": 47,
     "metadata": {},
     "output_type": "execute_result"
    }
   ],
   "source": [
    "astro.month[astro.year==2014].unique()"
   ]
  },
  {
   "cell_type": "code",
   "execution_count": 48,
   "metadata": {
    "collapsed": true
   },
   "outputs": [],
   "source": [
    "astro = astro[astro.year < 2014]"
   ]
  },
  {
   "cell_type": "code",
   "execution_count": 49,
   "metadata": {
    "collapsed": false
   },
   "outputs": [],
   "source": [
    "by_year = pd.DataFrame(list(astro.year.value_counts().index),columns=['year'])"
   ]
  },
  {
   "cell_type": "code",
   "execution_count": 50,
   "metadata": {
    "collapsed": false
   },
   "outputs": [],
   "source": [
    "by_year['count'] = list(astro.year.value_counts())"
   ]
  },
  {
   "cell_type": "code",
   "execution_count": 51,
   "metadata": {
    "collapsed": false
   },
   "outputs": [],
   "source": [
    "by_year.sort_values(by=\"year\",inplace=True)"
   ]
  },
  {
   "cell_type": "code",
   "execution_count": 52,
   "metadata": {
    "collapsed": true
   },
   "outputs": [],
   "source": [
    "import matplotlib.pyplot as plt\n",
    "%matplotlib inline"
   ]
  },
  {
   "cell_type": "code",
   "execution_count": 53,
   "metadata": {
    "collapsed": false
   },
   "outputs": [
    {
     "data": {
      "text/plain": [
       "[<matplotlib.lines.Line2D at 0x109bc0950>]"
      ]
     },
     "execution_count": 53,
     "metadata": {},
     "output_type": "execute_result"
    },
    {
     "data": {
      "image/png": "[encoded data removed]",
      "text/plain": [
       "<matplotlib.figure.Figure at 0x155861310>"
      ]
     },
     "metadata": {},
     "output_type": "display_data"
    }
   ],
   "source": [
    "fig,ax = plt.subplots()\n",
    "ax.plot(by_year.year,by_year['count'])"
   ]
  },
  {
   "cell_type": "code",
   "execution_count": 54,
   "metadata": {
    "collapsed": true
   },
   "outputs": [],
   "source": [
    "flickr = pd.read_csv(\"/Users/damoncrockett/Desktop/flickr_history/year-month_count_cleaned.csv\")"
   ]
  },
  {
   "cell_type": "code",
   "execution_count": 55,
   "metadata": {
    "collapsed": false
   },
   "outputs": [],
   "source": [
    "flickr = flickr.query('year_month_numeric > 1994 and year_month_numeric < 2014')"
   ]
  },
  {
   "cell_type": "code",
   "execution_count": 56,
   "metadata": {
    "collapsed": false
   },
   "outputs": [],
   "source": [
    "flickr['year'] = [item.split(\"_\")[0] for item in flickr.year_month]"
   ]
  },
  {
   "cell_type": "code",
   "execution_count": 57,
   "metadata": {
    "collapsed": true
   },
   "outputs": [],
   "source": [
    "import numpy as np"
   ]
  },
  {
   "cell_type": "code",
   "execution_count": 58,
   "metadata": {
    "collapsed": false
   },
   "outputs": [],
   "source": [
    "flickr = flickr[['year','count']].groupby('year').agg(np.sum)"
   ]
  },
  {
   "cell_type": "code",
   "execution_count": 59,
   "metadata": {
    "collapsed": false
   },
   "outputs": [],
   "source": [
    "bank = []\n",
    "for year in flickr.index:\n",
    "    bank.append(np.repeat(year,flickr['count'].loc[year]))"
   ]
  },
  {
   "cell_type": "code",
   "execution_count": 60,
   "metadata": {
    "collapsed": false
   },
   "outputs": [],
   "source": [
    "bank = [item for sublist in bank for item in sublist]"
   ]
  },
  {
   "cell_type": "code",
   "execution_count": 61,
   "metadata": {
    "collapsed": false
   },
   "outputs": [],
   "source": [
    "n = len(astro)"
   ]
  },
  {
   "cell_type": "code",
   "execution_count": 62,
   "metadata": {
    "collapsed": true
   },
   "outputs": [],
   "source": [
    "from collections import Counter"
   ]
  },
  {
   "cell_type": "code",
   "execution_count": 74,
   "metadata": {
    "collapsed": false
   },
   "outputs": [],
   "source": [
    "s1 = sorted(Counter(list(np.random.choice(bank,n))).items())\n",
    "s2 = sorted(Counter(list(np.random.choice(bank,n))).items())\n",
    "s3 = sorted(Counter(list(np.random.choice(bank,n))).items())\n",
    "s4 = sorted(Counter(list(np.random.choice(bank,n))).items())\n",
    "s5 = sorted(Counter(list(np.random.choice(bank,n))).items())\n",
    "s6 = sorted(Counter(list(np.random.choice(bank,n))).items())\n",
    "s7 = sorted(Counter(list(np.random.choice(bank,n))).items())\n",
    "s8 = sorted(Counter(list(np.random.choice(bank,n))).items())\n",
    "s9 = sorted(Counter(list(np.random.choice(bank,n))).items())\n",
    "s10 = sorted(Counter(list(np.random.choice(bank,n))).items())"
   ]
  },
  {
   "cell_type": "code",
   "execution_count": 78,
   "metadata": {
    "collapsed": false
   },
   "outputs": [
    {
     "data": {
      "image/png": "[encoded data removed]",
      "text/plain": [
       "<matplotlib.figure.Figure at 0x108868550>"
      ]
     },
     "metadata": {},
     "output_type": "display_data"
    }
   ],
   "source": [
    "fig,ax = plt.subplots(figsize=(10,5))\n",
    "ax.plot(by_year.year,by_year['count'])\n",
    "\n",
    "ax.plot([item[0] for item in s1],[item[1] for item in s1],c=\"lightgrey\")\n",
    "ax.plot([item[0] for item in s2],[item[1] for item in s2],c=\"lightgrey\")\n",
    "ax.plot([item[0] for item in s3],[item[1] for item in s3],c=\"lightgrey\")\n",
    "ax.plot([item[0] for item in s4],[item[1] for item in s4],c=\"lightgrey\")\n",
    "ax.plot([item[0] for item in s5],[item[1] for item in s5],c=\"lightgrey\")\n",
    "ax.plot([item[0] for item in s6],[item[1] for item in s6],c=\"lightgrey\")\n",
    "ax.plot([item[0] for item in s7],[item[1] for item in s7],c=\"lightgrey\")\n",
    "ax.plot([item[0] for item in s8],[item[1] for item in s8],c=\"lightgrey\")\n",
    "ax.plot([item[0] for item in s9],[item[1] for item in s9],c=\"lightgrey\")\n",
    "ax.plot([item[0] for item in s10],[item[1] for item in s10],c=\"lightgrey\")\n",
    "\n",
    "plt.savefig(\"./annual-increase.png\",bbox_inches=\"tight\")"
   ]
  }
 ],
 "metadata": {
  "kernelspec": {
   "display_name": "Python 2",
   "language": "python",
   "name": "python2"
  },
  "language_info": {
   "codemirror_mode": {
    "name": "ipython",
    "version": 2
   },
   "file_extension": ".py",
   "mimetype": "text/x-python",
   "name": "python",
   "nbconvert_exporter": "python",
   "pygments_lexer": "ipython2",
   "version": "2.7.10"
  }
 },
 "nbformat": 4,
 "nbformat_minor": 0
}
