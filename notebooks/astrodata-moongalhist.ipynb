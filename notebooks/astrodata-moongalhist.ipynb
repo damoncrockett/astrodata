{
 "cells": [
  {
   "cell_type": "code",
   "execution_count": 70,
   "metadata": {
    "collapsed": true
   },
   "outputs": [],
   "source": [
    "import pandas as pd\n",
    "from dateutil import parser\n",
    "import datetime"
   ]
  },
  {
   "cell_type": "code",
   "execution_count": 71,
   "metadata": {
    "collapsed": true
   },
   "outputs": [],
   "source": [
    "DIR = \"/Users/damoncrockett/astrodata/tables/\""
   ]
  },
  {
   "cell_type": "code",
   "execution_count": 72,
   "metadata": {
    "collapsed": true
   },
   "outputs": [],
   "source": [
    "df = pd.read_csv(DIR+\"astrodata_moon_galaxy.csv\")"
   ]
  },
  {
   "cell_type": "code",
   "execution_count": 73,
   "metadata": {
    "collapsed": false
   },
   "outputs": [],
   "source": [
    "df.date_taken = df.date_taken.apply(parser.parse)"
   ]
  },
  {
   "cell_type": "code",
   "execution_count": 74,
   "metadata": {
    "collapsed": true
   },
   "outputs": [],
   "source": [
    "df['cdate'] = [item.date() for item in df.date_taken]"
   ]
  },
  {
   "cell_type": "code",
   "execution_count": 75,
   "metadata": {
    "collapsed": true
   },
   "outputs": [],
   "source": [
    "t0 = df.cdate.min()"
   ]
  },
  {
   "cell_type": "code",
   "execution_count": 76,
   "metadata": {
    "collapsed": false
   },
   "outputs": [],
   "source": [
    "df['secpast'] = [(item-t0).total_seconds() for item in df.cdate]"
   ]
  },
  {
   "cell_type": "code",
   "execution_count": 77,
   "metadata": {
    "collapsed": false
   },
   "outputs": [],
   "source": [
    "from PIL import Image,ImageDraw"
   ]
  },
  {
   "cell_type": "code",
   "execution_count": 78,
   "metadata": {
    "collapsed": true
   },
   "outputs": [],
   "source": [
    "nxbin = 234"
   ]
  },
  {
   "cell_type": "code",
   "execution_count": 79,
   "metadata": {
    "collapsed": false
   },
   "outputs": [],
   "source": [
    "df['tbin'] = pd.cut(df.secpast,nxbin,labels=False)"
   ]
  },
  {
   "cell_type": "code",
   "execution_count": 80,
   "metadata": {
    "collapsed": false
   },
   "outputs": [],
   "source": [
    "uph = df.tbin[df.galaxy==True].value_counts().max()\n",
    "downh = df.tbin[df.moon==True].value_counts().max()"
   ]
  },
  {
   "cell_type": "code",
   "execution_count": 81,
   "metadata": {
    "collapsed": false
   },
   "outputs": [],
   "source": [
    "width = nxbin\n",
    "height = uph + downh"
   ]
  },
  {
   "cell_type": "code",
   "execution_count": 82,
   "metadata": {
    "collapsed": true
   },
   "outputs": [],
   "source": [
    "side = 64"
   ]
  },
  {
   "cell_type": "code",
   "execution_count": 83,
   "metadata": {
    "collapsed": true
   },
   "outputs": [],
   "source": [
    "px_w = width * side\n",
    "px_h = height * side"
   ]
  },
  {
   "cell_type": "code",
   "execution_count": 84,
   "metadata": {
    "collapsed": true
   },
   "outputs": [],
   "source": [
    "canvas = Image.new('RGB',(px_w,px_h),\"black\")"
   ]
  },
  {
   "cell_type": "code",
   "execution_count": 85,
   "metadata": {
    "collapsed": true
   },
   "outputs": [],
   "source": [
    "draw = ImageDraw.Draw(canvas)"
   ]
  },
  {
   "cell_type": "code",
   "execution_count": 86,
   "metadata": {
    "collapsed": false
   },
   "outputs": [],
   "source": [
    "for binn in df.tbin.unique():\n",
    "    xpos = binn * side\n",
    "    \n",
    "    for subj in ['moon','galaxy']:\n",
    "        if subj=='galaxy':\n",
    "            tmp = df[df.tbin==binn]\n",
    "            tmp = tmp[tmp.galaxy==True]\n",
    "            tmp.reset_index(drop=True,inplace=True)\n",
    "            ypos = uph * side - side # one img height above the equator\n",
    "\n",
    "            for i in tmp.index:\n",
    "                local_path = tmp.local_path.loc[i]\n",
    "                im = Image.open(local_path)\n",
    "                im.thumbnail((side,side),Image.ANTIALIAS)\n",
    "                canvas.paste(im,(xpos,ypos))\n",
    "                ypos = ypos - side\n",
    "        \n",
    "        elif subj=='moon':\n",
    "            tmp = df[df.tbin==binn]\n",
    "            tmp = tmp[tmp.moon==True]\n",
    "            tmp.reset_index(drop=True,inplace=True)\n",
    "            ypos = uph * side # top left corner img at equator\n",
    "\n",
    "            for i in tmp.index:\n",
    "                local_path = tmp.local_path.loc[i]\n",
    "                im = Image.open(local_path)\n",
    "                im.thumbnail((side,side),Image.ANTIALIAS)\n",
    "                canvas.paste(im,(xpos,ypos))\n",
    "                ypos = ypos + side"
   ]
  },
  {
   "cell_type": "code",
   "execution_count": 87,
   "metadata": {
    "collapsed": true
   },
   "outputs": [],
   "source": [
    "draw.line([(0,uph*side),(px_w,uph*side)],fill='white',width=3)"
   ]
  },
  {
   "cell_type": "code",
   "execution_count": 88,
   "metadata": {
    "collapsed": true
   },
   "outputs": [],
   "source": [
    "canvas.save(\"/Users/damoncrockett/Desktop/moongalhist.png\")"
   ]
  },
  {
   "cell_type": "code",
   "execution_count": null,
   "metadata": {
    "collapsed": true
   },
   "outputs": [],
   "source": []
  }
 ],
 "metadata": {
  "kernelspec": {
   "display_name": "Python 2",
   "language": "python",
   "name": "python2"
  },
  "language_info": {
   "codemirror_mode": {
    "name": "ipython",
    "version": 2
   },
   "file_extension": ".py",
   "mimetype": "text/x-python",
   "name": "python",
   "nbconvert_exporter": "python",
   "pygments_lexer": "ipython2",
   "version": "2.7.10"
  }
 },
 "nbformat": 4,
 "nbformat_minor": 0
}
