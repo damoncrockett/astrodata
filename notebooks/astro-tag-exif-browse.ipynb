{
 "cells": [
  {
   "cell_type": "code",
   "execution_count": 1,
   "metadata": {
    "collapsed": true
   },
   "outputs": [],
   "source": [
    "import pandas as pd"
   ]
  },
  {
   "cell_type": "code",
   "execution_count": 2,
   "metadata": {
    "collapsed": true
   },
   "outputs": [],
   "source": [
    "df = pd.read_csv(\"./astro_tag_exif.csv\")"
   ]
  },
  {
   "cell_type": "code",
   "execution_count": 3,
   "metadata": {
    "collapsed": false
   },
   "outputs": [
    {
     "name": "stdout",
     "output_type": "stream",
     "text": [
      "<class 'pandas.core.frame.DataFrame'>\n",
      "Int64Index: 5962 entries, 0 to 5961\n",
      "Data columns (total 25 columns):\n",
      "local_path           5962 non-null object\n",
      "basename             5962 non-null object\n",
      "id                   5962 non-null int64\n",
      "user_nid             5962 non-null object\n",
      "date_taken           5962 non-null object\n",
      "date_uploaded        5962 non-null int64\n",
      "capture_device       3915 non-null object\n",
      "title                5937 non-null object\n",
      "descr                4528 non-null object\n",
      "user_tags            5962 non-null object\n",
      "lon                  4353 non-null float64\n",
      "lat                  4353 non-null float64\n",
      "accuracy             4353 non-null float64\n",
      "dl_url               5962 non-null object\n",
      "ext                  5962 non-null object\n",
      "astrophotography     5962 non-null bool\n",
      "astrofotografija     5962 non-null bool\n",
      "astrofotografia      5962 non-null bool\n",
      "astrofotografie      5962 non-null bool\n",
      "astrophotographie    5962 non-null bool\n",
      "astrofotografi       5962 non-null bool\n",
      "astro                5962 non-null bool\n",
      "x                    5962 non-null int64\n",
      "y                    5962 non-null int64\n",
      "exif                 5050 non-null object\n",
      "dtypes: bool(7), float64(3), int64(4), object(11)\n",
      "memory usage: 925.7+ KB\n"
     ]
    }
   ],
   "source": [
    "df.info()"
   ]
  },
  {
   "cell_type": "code",
   "execution_count": 4,
   "metadata": {
    "collapsed": false
   },
   "outputs": [],
   "source": [
    "exif = df[['local_path','id','user_nid','user_tags','date_taken','exif','lat','lon']]"
   ]
  },
  {
   "cell_type": "code",
   "execution_count": 5,
   "metadata": {
    "collapsed": false
   },
   "outputs": [],
   "source": [
    "exif = exif[exif.exif.notnull()]"
   ]
  },
  {
   "cell_type": "code",
   "execution_count": 6,
   "metadata": {
    "collapsed": false
   },
   "outputs": [],
   "source": [
    "exif.reset_index(drop=True,inplace=True)"
   ]
  },
  {
   "cell_type": "code",
   "execution_count": 7,
   "metadata": {
    "collapsed": false
   },
   "outputs": [
    {
     "name": "stdout",
     "output_type": "stream",
     "text": [
      "<class 'pandas.core.frame.DataFrame'>\n",
      "Int64Index: 5050 entries, 0 to 5049\n",
      "Data columns (total 8 columns):\n",
      "local_path    5050 non-null object\n",
      "id            5050 non-null int64\n",
      "user_nid      5050 non-null object\n",
      "user_tags     5050 non-null object\n",
      "date_taken    5050 non-null object\n",
      "exif          5050 non-null object\n",
      "lat           3701 non-null float64\n",
      "lon           3701 non-null float64\n",
      "dtypes: float64(2), int64(1), object(5)\n",
      "memory usage: 355.1+ KB\n"
     ]
    }
   ],
   "source": [
    "exif.info()"
   ]
  },
  {
   "cell_type": "code",
   "execution_count": 8,
   "metadata": {
    "collapsed": true
   },
   "outputs": [],
   "source": [
    "from dateutil import parser"
   ]
  },
  {
   "cell_type": "code",
   "execution_count": 9,
   "metadata": {
    "collapsed": false
   },
   "outputs": [
    {
     "name": "stdout",
     "output_type": "stream",
     "text": [
      "4871 'NoneType' object is not iterable\n"
     ]
    }
   ],
   "source": [
    "counter=-1\n",
    "for item in exif.date_taken:\n",
    "    counter+=1\n",
    "    try:\n",
    "        parser.parse(item)\n",
    "    except Exception as e:\n",
    "        print counter,e"
   ]
  },
  {
   "cell_type": "code",
   "execution_count": 10,
   "metadata": {
    "collapsed": false
   },
   "outputs": [],
   "source": [
    "exif = exif.drop(4871)"
   ]
  },
  {
   "cell_type": "code",
   "execution_count": 11,
   "metadata": {
    "collapsed": true
   },
   "outputs": [],
   "source": [
    "exif.reset_index(drop=True,inplace=True)"
   ]
  },
  {
   "cell_type": "code",
   "execution_count": 12,
   "metadata": {
    "collapsed": true
   },
   "outputs": [],
   "source": [
    "exif.date_taken = exif.date_taken.apply(parser.parse)"
   ]
  },
  {
   "cell_type": "code",
   "execution_count": 13,
   "metadata": {
    "collapsed": false
   },
   "outputs": [],
   "source": [
    "exif.sort(\"date_taken\",inplace=True)"
   ]
  },
  {
   "cell_type": "code",
   "execution_count": 14,
   "metadata": {
    "collapsed": false
   },
   "outputs": [],
   "source": [
    "exif.exif = [item.split(\",\") for item in exif.exif]"
   ]
  },
  {
   "cell_type": "code",
   "execution_count": 15,
   "metadata": {
    "collapsed": true
   },
   "outputs": [],
   "source": [
    "def browse():\n",
    "    for item in exif.exif:\n",
    "        yield item"
   ]
  },
  {
   "cell_type": "code",
   "execution_count": 16,
   "metadata": {
    "collapsed": true
   },
   "outputs": [],
   "source": [
    "b = browse()"
   ]
  },
  {
   "cell_type": "code",
   "execution_count": 52,
   "metadata": {
    "collapsed": false
   },
   "outputs": [
    {
     "data": {
      "text/plain": [
       "['Exif+IFD0.Date%2FTime:2004%3A01%3A14+00%3A06%3A01',\n",
       " 'Exif+IFD0.Orientation:Top%2C+left+side+%28Horizontal+%2F+normal%29',\n",
       " 'Exif+IFD0.Resolution+Unit:Inch',\n",
       " 'Exif+IFD0.Software:Adobe+Photoshop+7.0',\n",
       " 'Exif+IFD0.X+Resolution:72+dots+per+inch',\n",
       " 'Exif+IFD0.Y+Resolution:72+dots+per+inch',\n",
       " 'Exif+SubIFD.Color+Space:Undefined',\n",
       " 'Exif+SubIFD.Exif+Image+Height:194+pixels',\n",
       " 'Exif+SubIFD.Exif+Image+Width:257+pixels',\n",
       " 'Exif+Thumbnail.Resolution+Unit:Inch',\n",
       " 'Exif+Thumbnail.Thumbnail+Compression:JPEG+%28old-style%29',\n",
       " 'Exif+Thumbnail.Thumbnail+Length:1342+bytes',\n",
       " 'Exif+Thumbnail.Thumbnail+Offset:294+bytes',\n",
       " 'Exif+Thumbnail.X+Resolution:72+dots+per+inch',\n",
       " 'Exif+Thumbnail.Y+Resolution:72+dots+per+inch']"
      ]
     },
     "execution_count": 52,
     "metadata": {},
     "output_type": "execute_result"
    }
   ],
   "source": [
    "b.next()"
   ]
  },
  {
   "cell_type": "code",
   "execution_count": 97,
   "metadata": {
    "collapsed": false
   },
   "outputs": [],
   "source": [
    "iso = []\n",
    "for l in exif.exif:\n",
    "    tmp = []\n",
    "    for item in l:\n",
    "        if \"SubIFD.ISO\" in item:\n",
    "            tmp.append(item.split(\":\")[1])\n",
    "    iso.append(tmp)"
   ]
  },
  {
   "cell_type": "code",
   "execution_count": 18,
   "metadata": {
    "collapsed": false
   },
   "outputs": [],
   "source": [
    "#for item in iso:\n",
    "    #print item"
   ]
  },
  {
   "cell_type": "code",
   "execution_count": 98,
   "metadata": {
    "collapsed": false
   },
   "outputs": [],
   "source": [
    "shutter = []\n",
    "for l in exif.exif:\n",
    "    tmp = []\n",
    "    for item in l:\n",
    "        if \"SubIFD.Exposure+Time\" in item:\n",
    "            tmp.append(item.split(\":\")[1].split(\"+\")[0])\n",
    "    shutter.append(tmp)\n",
    "    \n",
    "#for item in shutter:\n",
    "    #print item"
   ]
  },
  {
   "cell_type": "code",
   "execution_count": 99,
   "metadata": {
    "collapsed": false
   },
   "outputs": [],
   "source": [
    "f = []\n",
    "for l in exif.exif:\n",
    "    tmp = []\n",
    "    for item in l:\n",
    "        if \"SubIFD.F-Number\" in item:\n",
    "            tmp.append(item.split(\":\")[1].lstrip(\"F\"))\n",
    "    f.append(tmp)\n",
    "    \n",
    "#for item in f:\n",
    "    #print item"
   ]
  },
  {
   "cell_type": "code",
   "execution_count": 100,
   "metadata": {
    "collapsed": false
   },
   "outputs": [],
   "source": [
    "focal = []\n",
    "for l in exif.exif:\n",
    "    tmp = []\n",
    "    for item in l:\n",
    "        if \"SubIFD.Focal+Length:\" in item:\n",
    "            tmp.append(item.split(\":\")[1].split(\"+\")[0])\n",
    "    focal.append(tmp)\n",
    "    \n",
    "#for item in focal:\n",
    "    #print item"
   ]
  },
  {
   "cell_type": "code",
   "execution_count": 101,
   "metadata": {
    "collapsed": false
   },
   "outputs": [],
   "source": [
    "model = []\n",
    "for l in exif.exif:\n",
    "    tmp = []\n",
    "    for item in l:\n",
    "        if \"IFD0.Model\" in item:\n",
    "            tmp.append(item.split(\":\")[1])\n",
    "    model.append(tmp)\n",
    "    \n",
    "#for item in model:\n",
    "    #print item"
   ]
  }
 ],
 "metadata": {
  "kernelspec": {
   "display_name": "Python 2",
   "language": "python",
   "name": "python2"
  },
  "language_info": {
   "codemirror_mode": {
    "name": "ipython",
    "version": 2
   },
   "file_extension": ".py",
   "mimetype": "text/x-python",
   "name": "python",
   "nbconvert_exporter": "python",
   "pygments_lexer": "ipython2",
   "version": "2.7.10"
  }
 },
 "nbformat": 4,
 "nbformat_minor": 0
}
