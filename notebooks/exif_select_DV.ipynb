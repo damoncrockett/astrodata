{
 "cells": [
  {
   "cell_type": "code",
   "execution_count": 1,
   "metadata": {
    "collapsed": true
   },
   "outputs": [],
   "source": [
    "import pandas as pd"
   ]
  },
  {
   "cell_type": "code",
   "execution_count": 2,
   "metadata": {
    "collapsed": true
   },
   "outputs": [],
   "source": [
    "DIR = \"/Users/damoncrockett/Desktop/astrophotography_data/\""
   ]
  },
  {
   "cell_type": "code",
   "execution_count": 3,
   "metadata": {
    "collapsed": true
   },
   "outputs": [],
   "source": [
    "df = pd.read_csv(\"./fuck.csv\")"
   ]
  },
  {
   "cell_type": "code",
   "execution_count": 5,
   "metadata": {
    "collapsed": false
   },
   "outputs": [
    {
     "data": {
      "text/plain": [
       "Index([u'local_path', u'lat', u'lon', u'qual'], dtype='object')"
      ]
     },
     "execution_count": 5,
     "metadata": {},
     "output_type": "execute_result"
    }
   ],
   "source": [
    "df.columns"
   ]
  },
  {
   "cell_type": "code",
   "execution_count": 6,
   "metadata": {
    "collapsed": true
   },
   "outputs": [],
   "source": [
    "from PIL import Image, ImageDraw\n",
    "from shapely.geometry import Point\n",
    "import os\n",
    "import math\n",
    "import numpy as np"
   ]
  },
  {
   "cell_type": "code",
   "execution_count": 7,
   "metadata": {
    "collapsed": true
   },
   "outputs": [],
   "source": [
    "tmp = df"
   ]
  },
  {
   "cell_type": "code",
   "execution_count": 8,
   "metadata": {
    "collapsed": true
   },
   "outputs": [],
   "source": [
    "var = \"qual\""
   ]
  },
  {
   "cell_type": "code",
   "execution_count": 9,
   "metadata": {
    "collapsed": false
   },
   "outputs": [],
   "source": [
    "tmp = tmp[tmp.qual!=0]"
   ]
  },
  {
   "cell_type": "code",
   "execution_count": 10,
   "metadata": {
    "collapsed": true
   },
   "outputs": [],
   "source": [
    "#tmp = tmp[tmp.ISO!=\"65535+0+0\"]"
   ]
  },
  {
   "cell_type": "code",
   "execution_count": 11,
   "metadata": {
    "collapsed": false
   },
   "outputs": [],
   "source": [
    "#tmp.focal = tmp.focal.apply(float)"
   ]
  },
  {
   "cell_type": "code",
   "execution_count": 12,
   "metadata": {
    "collapsed": false
   },
   "outputs": [
    {
     "name": "stderr",
     "output_type": "stream",
     "text": [
      "/Library/Python/2.7/site-packages/pandas/core/frame.py:2915: SettingWithCopyWarning: \n",
      "A value is trying to be set on a copy of a slice from a DataFrame\n",
      "\n",
      "See the the caveats in the documentation: http://pandas.pydata.org/pandas-docs/stable/indexing.html#indexing-view-versus-copy\n",
      "  inplace=inplace, kind=kind, na_position=na_position)\n"
     ]
    }
   ],
   "source": [
    "tmp.sort(var,ascending=False,inplace=True)\n",
    "tmp.reset_index(drop=True,inplace=True)"
   ]
  },
  {
   "cell_type": "code",
   "execution_count": 13,
   "metadata": {
    "collapsed": false
   },
   "outputs": [
    {
     "data": {
      "text/html": [
       "<div>\n",
       "<table border=\"1\" class=\"dataframe\">\n",
       "  <thead>\n",
       "    <tr style=\"text-align: right;\">\n",
       "      <th></th>\n",
       "      <th>local_path</th>\n",
       "      <th>lat</th>\n",
       "      <th>lon</th>\n",
       "      <th>qual</th>\n",
       "    </tr>\n",
       "  </thead>\n",
       "  <tbody>\n",
       "    <tr>\n",
       "      <th>0</th>\n",
       "      <td>/Users/damoncrockett/Desktop/astrophotography_...</td>\n",
       "      <td>-34.252478</td>\n",
       "      <td>-59.391695</td>\n",
       "      <td>4</td>\n",
       "    </tr>\n",
       "    <tr>\n",
       "      <th>1</th>\n",
       "      <td>/Users/damoncrockett/Desktop/astrophotography_...</td>\n",
       "      <td>46.936491</td>\n",
       "      <td>6.719169</td>\n",
       "      <td>4</td>\n",
       "    </tr>\n",
       "    <tr>\n",
       "      <th>2</th>\n",
       "      <td>/Users/damoncrockett/Desktop/astrophotography_...</td>\n",
       "      <td>53.135766</td>\n",
       "      <td>-4.415176</td>\n",
       "      <td>4</td>\n",
       "    </tr>\n",
       "    <tr>\n",
       "      <th>3</th>\n",
       "      <td>/Users/damoncrockett/Desktop/astrophotography_...</td>\n",
       "      <td>34.027486</td>\n",
       "      <td>-84.590456</td>\n",
       "      <td>4</td>\n",
       "    </tr>\n",
       "    <tr>\n",
       "      <th>4</th>\n",
       "      <td>/Users/damoncrockett/Desktop/astrophotography_...</td>\n",
       "      <td>46.936491</td>\n",
       "      <td>6.719169</td>\n",
       "      <td>4</td>\n",
       "    </tr>\n",
       "  </tbody>\n",
       "</table>\n",
       "</div>"
      ],
      "text/plain": [
       "                                          local_path        lat        lon  \\\n",
       "0  /Users/damoncrockett/Desktop/astrophotography_... -34.252478 -59.391695   \n",
       "1  /Users/damoncrockett/Desktop/astrophotography_...  46.936491   6.719169   \n",
       "2  /Users/damoncrockett/Desktop/astrophotography_...  53.135766  -4.415176   \n",
       "3  /Users/damoncrockett/Desktop/astrophotography_...  34.027486 -84.590456   \n",
       "4  /Users/damoncrockett/Desktop/astrophotography_...  46.936491   6.719169   \n",
       "\n",
       "   qual  \n",
       "0     4  \n",
       "1     4  \n",
       "2     4  \n",
       "3     4  \n",
       "4     4  "
      ]
     },
     "execution_count": 13,
     "metadata": {},
     "output_type": "execute_result"
    }
   ],
   "source": [
    "tmp.head()"
   ]
  },
  {
   "cell_type": "code",
   "execution_count": 14,
   "metadata": {
    "collapsed": false
   },
   "outputs": [],
   "source": [
    "n = len(tmp)\n",
    "\n",
    "grid_side = int(round( np.sqrt(n) / 0.75 ))\n",
    "\n",
    "x,y = range(grid_side) * grid_side, np.repeat(range(grid_side),grid_side)\n",
    "grid_list = pd.DataFrame(x,columns=['x'])\n",
    "grid_list['y'] = y\n",
    "\n",
    "point = []\n",
    "for i in range(len(grid_list)):\n",
    "    point.append(Point(grid_list.x.loc[i],grid_list.y.loc[i]))\n",
    "\n",
    "grid_list['point'] = point\n",
    "\n",
    "open_grid = list(grid_list.point)\n",
    "\n",
    "midpoint = int(round( grid_side / 2 ))\n",
    "centroid_loc = Point(midpoint,midpoint)\n",
    "\n",
    "if n > 1:\n",
    "    open_grid.remove(centroid_loc)\n",
    "\n",
    "thumb_side = 128\n",
    "\n",
    "px_w = thumb_side * grid_side\n",
    "px_h = thumb_side * grid_side\n",
    "\n",
    "canvas = Image.new('RGB',(px_w,px_h),(0,0,0))\n",
    "\n",
    "for i in range(n):\n",
    "    im = Image.open(tmp.local_path.loc[i])\n",
    "    im.thumbnail((thumb_side,thumb_side),Image.ANTIALIAS)\n",
    "    closest_open = min(open_grid,key=lambda x: centroid_loc.distance(x))\n",
    "    x = int(closest_open.x) * thumb_side\n",
    "    y = int(closest_open.y) * thumb_side\n",
    "\n",
    "    #pos = (7,7)\n",
    "    #draw = ImageDraw.Draw(im)\n",
    "    #draw.text(pos, str(i),fill=\"white\")\n",
    "\n",
    "    canvas.paste(im,(x,y))\n",
    "    open_grid.remove(closest_open)\n",
    "\n",
    "canvas.save(DIR+\"qual.png\")"
   ]
  },
  {
   "cell_type": "code",
   "execution_count": null,
   "metadata": {
    "collapsed": true
   },
   "outputs": [],
   "source": []
  }
 ],
 "metadata": {
  "kernelspec": {
   "display_name": "Python 2",
   "language": "python",
   "name": "python2"
  },
  "language_info": {
   "codemirror_mode": {
    "name": "ipython",
    "version": 2
   },
   "file_extension": ".py",
   "mimetype": "text/x-python",
   "name": "python",
   "nbconvert_exporter": "python",
   "pygments_lexer": "ipython2",
   "version": "2.7.10"
  }
 },
 "nbformat": 4,
 "nbformat_minor": 0
}
