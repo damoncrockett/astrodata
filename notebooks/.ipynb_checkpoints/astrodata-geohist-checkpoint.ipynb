{
 "cells": [
  {
   "cell_type": "code",
   "execution_count": 169,
   "metadata": {
    "collapsed": true
   },
   "outputs": [],
   "source": [
    "import pandas as pd\n",
    "from dateutil import parser\n",
    "import datetime"
   ]
  },
  {
   "cell_type": "code",
   "execution_count": 170,
   "metadata": {
    "collapsed": true
   },
   "outputs": [],
   "source": [
    "DIR = \"/Users/damoncrockett/astrodata/tables/\""
   ]
  },
  {
   "cell_type": "code",
   "execution_count": 171,
   "metadata": {
    "collapsed": true
   },
   "outputs": [],
   "source": [
    "df = pd.read_csv(DIR+\"astrodata_moon_galaxy.csv\")"
   ]
  },
  {
   "cell_type": "code",
   "execution_count": 172,
   "metadata": {
    "collapsed": true
   },
   "outputs": [],
   "source": [
    "df = df[df.lat.notnull()]"
   ]
  },
  {
   "cell_type": "code",
   "execution_count": 173,
   "metadata": {
    "collapsed": false
   },
   "outputs": [],
   "source": [
    "df.date_taken = df.date_taken.apply(parser.parse)"
   ]
  },
  {
   "cell_type": "code",
   "execution_count": 174,
   "metadata": {
    "collapsed": true
   },
   "outputs": [],
   "source": [
    "df['cdate'] = [item.date() for item in df.date_taken]"
   ]
  },
  {
   "cell_type": "code",
   "execution_count": 175,
   "metadata": {
    "collapsed": true
   },
   "outputs": [],
   "source": [
    "t0 = df.cdate.min()"
   ]
  },
  {
   "cell_type": "code",
   "execution_count": 176,
   "metadata": {
    "collapsed": false
   },
   "outputs": [],
   "source": [
    "df['secpast'] = [(item-t0).total_seconds() for item in df.cdate]"
   ]
  },
  {
   "cell_type": "code",
   "execution_count": 177,
   "metadata": {
    "collapsed": false
   },
   "outputs": [],
   "source": [
    "from PIL import Image,ImageDraw"
   ]
  },
  {
   "cell_type": "code",
   "execution_count": 178,
   "metadata": {
    "collapsed": false
   },
   "outputs": [],
   "source": [
    "df['north'] = df.lat > 0 # hemisphere feature"
   ]
  },
  {
   "cell_type": "code",
   "execution_count": 179,
   "metadata": {
    "collapsed": false
   },
   "outputs": [
    {
     "name": "stdout",
     "output_type": "stream",
     "text": [
      "3987 328\n"
     ]
    }
   ],
   "source": [
    "print len(df[df.north==True]),len(df[df.north==False])"
   ]
  },
  {
   "cell_type": "code",
   "execution_count": 180,
   "metadata": {
    "collapsed": true
   },
   "outputs": [],
   "source": [
    "nxbin = 234"
   ]
  },
  {
   "cell_type": "code",
   "execution_count": 181,
   "metadata": {
    "collapsed": false
   },
   "outputs": [],
   "source": [
    "df['tbin'] = pd.cut(df.secpast,nxbin,labels=False)"
   ]
  },
  {
   "cell_type": "code",
   "execution_count": 182,
   "metadata": {
    "collapsed": false
   },
   "outputs": [],
   "source": [
    "uph = df.tbin[df.north==True].value_counts().max()\n",
    "downh = df.tbin[df.north==False].value_counts().max()"
   ]
  },
  {
   "cell_type": "code",
   "execution_count": 183,
   "metadata": {
    "collapsed": false
   },
   "outputs": [],
   "source": [
    "width = nxbin\n",
    "height = uph + downh"
   ]
  },
  {
   "cell_type": "code",
   "execution_count": 184,
   "metadata": {
    "collapsed": true
   },
   "outputs": [],
   "source": [
    "side = 64"
   ]
  },
  {
   "cell_type": "code",
   "execution_count": 185,
   "metadata": {
    "collapsed": true
   },
   "outputs": [],
   "source": [
    "px_w = width * side\n",
    "px_h = height * side"
   ]
  },
  {
   "cell_type": "code",
   "execution_count": 186,
   "metadata": {
    "collapsed": true
   },
   "outputs": [],
   "source": [
    "canvas = Image.new('RGB',(px_w,px_h),\"black\")"
   ]
  },
  {
   "cell_type": "code",
   "execution_count": 187,
   "metadata": {
    "collapsed": true
   },
   "outputs": [],
   "source": [
    "draw = ImageDraw.Draw(canvas)"
   ]
  },
  {
   "cell_type": "code",
   "execution_count": 188,
   "metadata": {
    "collapsed": false
   },
   "outputs": [],
   "source": [
    "for binn in df.tbin.unique():\n",
    "    xpos = binn * side\n",
    "    \n",
    "    for boole in [True,False]:\n",
    "        if boole==True:\n",
    "            tmp = df[df.tbin==binn]\n",
    "            tmp = tmp[tmp.north==True]\n",
    "            tmp.sort_values(by='lat',inplace=True)\n",
    "            tmp.reset_index(drop=True,inplace=True)\n",
    "            ypos = uph * side - side # one img height above the equator\n",
    "\n",
    "            for i in tmp.index:\n",
    "                local_path = tmp.local_path.loc[i]\n",
    "                im = Image.open(local_path)\n",
    "                im.thumbnail((side,side),Image.ANTIALIAS)\n",
    "                canvas.paste(im,(xpos,ypos))\n",
    "                ypos = ypos - side\n",
    "        \n",
    "        elif boole==False:\n",
    "            tmp = df[df.tbin==binn]\n",
    "            tmp = tmp[tmp.north==False]\n",
    "            tmp.sort_values(by='lat',inplace=True,ascending=False)\n",
    "            tmp.reset_index(drop=True,inplace=True)\n",
    "            ypos = uph * side # top left corner img at equator\n",
    "\n",
    "            for i in tmp.index:\n",
    "                local_path = tmp.local_path.loc[i]\n",
    "                im = Image.open(local_path)\n",
    "                im.thumbnail((side,side),Image.ANTIALIAS)\n",
    "                canvas.paste(im,(xpos,ypos))\n",
    "                ypos = ypos + side"
   ]
  },
  {
   "cell_type": "code",
   "execution_count": 189,
   "metadata": {
    "collapsed": true
   },
   "outputs": [],
   "source": [
    "draw.line([(0,uph*side),(px_w,uph*side)],fill='white')"
   ]
  },
  {
   "cell_type": "code",
   "execution_count": 190,
   "metadata": {
    "collapsed": true
   },
   "outputs": [],
   "source": [
    "canvas.save(\"/Users/damoncrockett/Desktop/geohist.png\")"
   ]
  },
  {
   "cell_type": "code",
   "execution_count": null,
   "metadata": {
    "collapsed": true
   },
   "outputs": [],
   "source": []
  }
 ],
 "metadata": {
  "kernelspec": {
   "display_name": "Python 2",
   "language": "python",
   "name": "python2"
  },
  "language_info": {
   "codemirror_mode": {
    "name": "ipython",
    "version": 2
   },
   "file_extension": ".py",
   "mimetype": "text/x-python",
   "name": "python",
   "nbconvert_exporter": "python",
   "pygments_lexer": "ipython2",
   "version": "2.7.10"
  }
 },
 "nbformat": 4,
 "nbformat_minor": 0
}
