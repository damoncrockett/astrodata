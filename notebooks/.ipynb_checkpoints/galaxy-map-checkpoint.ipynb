{
 "cells": [
  {
   "cell_type": "code",
   "execution_count": 13,
   "metadata": {
    "collapsed": true
   },
   "outputs": [],
   "source": [
    "import pandas as pd\n",
    "import numpy as np"
   ]
  },
  {
   "cell_type": "code",
   "execution_count": 14,
   "metadata": {
    "collapsed": true
   },
   "outputs": [],
   "source": [
    "DIR = \"/Users/damoncrockett/astrodata/tables/\""
   ]
  },
  {
   "cell_type": "code",
   "execution_count": 15,
   "metadata": {
    "collapsed": false
   },
   "outputs": [],
   "source": [
    "d = pd.read_csv(DIR+\"astrodata_design_matrix.csv\")"
   ]
  },
  {
   "cell_type": "code",
   "execution_count": 16,
   "metadata": {
    "collapsed": true
   },
   "outputs": [],
   "source": [
    "df = pd.read_csv(DIR+\"astrodata_moon_galaxy.csv\")"
   ]
  },
  {
   "cell_type": "code",
   "execution_count": 17,
   "metadata": {
    "collapsed": true
   },
   "outputs": [],
   "source": [
    "d = d[df.galaxy==1]"
   ]
  },
  {
   "cell_type": "code",
   "execution_count": 18,
   "metadata": {
    "collapsed": true
   },
   "outputs": [],
   "source": [
    "from sklearn.manifold import TSNE as tsne\n",
    "from PIL import Image, ImageDraw"
   ]
  },
  {
   "cell_type": "code",
   "execution_count": 19,
   "metadata": {
    "collapsed": true
   },
   "outputs": [],
   "source": [
    "thumb_side = 128 # publication size"
   ]
  },
  {
   "cell_type": "markdown",
   "metadata": {},
   "source": [
    "## Fill"
   ]
  },
  {
   "cell_type": "code",
   "execution_count": 20,
   "metadata": {
    "collapsed": true
   },
   "outputs": [],
   "source": [
    "from shapely.geometry import Point"
   ]
  },
  {
   "cell_type": "code",
   "execution_count": 21,
   "metadata": {
    "collapsed": true
   },
   "outputs": [],
   "source": [
    "crit = np.sqrt(2) # adjacency"
   ]
  },
  {
   "cell_type": "code",
   "execution_count": 22,
   "metadata": {
    "collapsed": true
   },
   "outputs": [],
   "source": [
    "num_bin = 3 * int(round( np.sqrt( len(d) / np.pi ) )) # circle that fits square, fill 'factor'==3"
   ]
  },
  {
   "cell_type": "code",
   "execution_count": 23,
   "metadata": {
    "collapsed": false
   },
   "outputs": [],
   "source": [
    "X = d.iloc[:,1:].as_matrix()"
   ]
  },
  {
   "cell_type": "code",
   "execution_count": 24,
   "metadata": {
    "collapsed": false
   },
   "outputs": [],
   "source": [
    "tsne_obj = tsne(n_components=2)\n",
    "\n",
    "subspace_tsne = pd.DataFrame(tsne_obj.fit_transform(X),columns=[\"x\",\"y\"])\n",
    "subspace_tsne['grid_x'] = pd.cut(subspace_tsne['x'],num_bin,labels=False)\n",
    "subspace_tsne['grid_y'] = pd.cut(subspace_tsne['y'],num_bin,labels=False)\n",
    "subspace_tsne['local_path'] = list(d.local_path)"
   ]
  },
  {
   "cell_type": "code",
   "execution_count": 25,
   "metadata": {
    "collapsed": false
   },
   "outputs": [],
   "source": [
    "grid_side = num_bin \n",
    "px_w = thumb_side * grid_side\n",
    "px_h = thumb_side * grid_side\n",
    "\n",
    "x,y = range(grid_side) * grid_side, np.repeat(range(grid_side),grid_side)\n",
    "grid_list = pd.DataFrame(x,columns=['x'])\n",
    "grid_list['y'] = y\n",
    "\n",
    "point = []\n",
    "for i in range(len(grid_list)):\n",
    "    point.append(Point(grid_list.x.loc[i],grid_list.y.loc[i]))\n",
    "\n",
    "grid_list['point'] = point\n",
    "\n",
    "open_grid = list(grid_list.point)\n",
    "canvas = Image.new('RGB',(px_w,px_h),(0,0,0))\n",
    "plotted_dict = {}\n",
    "\n",
    "plotted = 0\n",
    "for i in np.random.permutation(np.arange(np.round(len(subspace_tsne)))):\n",
    "    im = Image.open(subspace_tsne.local_path.loc[i])\n",
    "    im.thumbnail((thumb_side,thumb_side),Image.ANTIALIAS)\n",
    "    x = subspace_tsne.grid_x.loc[i] * thumb_side \n",
    "    y = subspace_tsne.grid_y.loc[i] * thumb_side \n",
    "    grid_point = Point((subspace_tsne.grid_x.loc[i],subspace_tsne.grid_y.loc[i]))\n",
    "\n",
    "    if grid_point in open_grid:\n",
    "        canvas.paste(im,(x,y))\n",
    "        open_grid.remove(grid_point)\n",
    "        plotted_dict[grid_point] = subspace_tsne.local_path.loc[i]\n",
    "        plotted+=1\n",
    "\n",
    "    elif len(open_grid) == 0:\n",
    "        break\n",
    "\n",
    "    else:\n",
    "        closest_open = min(open_grid,key=lambda x: grid_point.distance(x))\n",
    "        if grid_point.distance(closest_open) <= crit: # adjacency criterion\n",
    "            x = int(closest_open.x) * thumb_side\n",
    "            y = int(closest_open.y) * thumb_side\n",
    "            canvas.paste(im,(x,y))\n",
    "            open_grid.remove(closest_open)\n",
    "            plotted_dict[closest_open] = subspace_tsne.local_path.loc[i]\n",
    "            plotted+=1"
   ]
  },
  {
   "cell_type": "code",
   "execution_count": 26,
   "metadata": {
    "collapsed": true
   },
   "outputs": [],
   "source": [
    "PRE = \"/Users/damoncrockett/Desktop/\"\n",
    "prop = str(int(round(plotted*100/len(subspace_tsne))))\n",
    "canvas.save(PRE+\"galaxy_\"+str(num_bin)+\"_\"+prop+\"_\"+\"_\"+str(plotted)+\".png\")"
   ]
  },
  {
   "cell_type": "code",
   "execution_count": null,
   "metadata": {
    "collapsed": true
   },
   "outputs": [],
   "source": []
  }
 ],
 "metadata": {
  "kernelspec": {
   "display_name": "Python 2",
   "language": "python",
   "name": "python2"
  },
  "language_info": {
   "codemirror_mode": {
    "name": "ipython",
    "version": 2
   },
   "file_extension": ".py",
   "mimetype": "text/x-python",
   "name": "python",
   "nbconvert_exporter": "python",
   "pygments_lexer": "ipython2",
   "version": "2.7.10"
  }
 },
 "nbformat": 4,
 "nbformat_minor": 0
}
