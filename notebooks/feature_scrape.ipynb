{
 "cells": [
  {
   "cell_type": "code",
   "execution_count": 23,
   "metadata": {
    "collapsed": true
   },
   "outputs": [],
   "source": [
    "import requests\n",
    "import os\n",
    "import shutil"
   ]
  },
  {
   "cell_type": "code",
   "execution_count": 26,
   "metadata": {
    "collapsed": false
   },
   "outputs": [],
   "source": [
    "TARGET = \"/Users/damoncrockett/Desktop/tmp/\""
   ]
  },
  {
   "cell_type": "code",
   "execution_count": 27,
   "metadata": {
    "collapsed": true
   },
   "outputs": [],
   "source": [
    "PREFIX = \"http://multimedia-commons.s3-us-west-2.amazonaws.com/features/image/gist/\""
   ]
  },
  {
   "cell_type": "code",
   "execution_count": 28,
   "metadata": {
    "collapsed": false
   },
   "outputs": [],
   "source": [
    "urls = []\n",
    "for i in range(10):\n",
    "    urls.append(PREFIX+\"00\"+str(i)+\".gist\")"
   ]
  },
  {
   "cell_type": "code",
   "execution_count": 29,
   "metadata": {
    "collapsed": false
   },
   "outputs": [
    {
     "data": {
      "text/plain": [
       "['http://multimedia-commons.s3-us-west-2.amazonaws.com/features/image/gist/000.gist',\n",
       " 'http://multimedia-commons.s3-us-west-2.amazonaws.com/features/image/gist/001.gist',\n",
       " 'http://multimedia-commons.s3-us-west-2.amazonaws.com/features/image/gist/002.gist',\n",
       " 'http://multimedia-commons.s3-us-west-2.amazonaws.com/features/image/gist/003.gist',\n",
       " 'http://multimedia-commons.s3-us-west-2.amazonaws.com/features/image/gist/004.gist',\n",
       " 'http://multimedia-commons.s3-us-west-2.amazonaws.com/features/image/gist/005.gist',\n",
       " 'http://multimedia-commons.s3-us-west-2.amazonaws.com/features/image/gist/006.gist',\n",
       " 'http://multimedia-commons.s3-us-west-2.amazonaws.com/features/image/gist/007.gist',\n",
       " 'http://multimedia-commons.s3-us-west-2.amazonaws.com/features/image/gist/008.gist',\n",
       " 'http://multimedia-commons.s3-us-west-2.amazonaws.com/features/image/gist/009.gist']"
      ]
     },
     "execution_count": 29,
     "metadata": {},
     "output_type": "execute_result"
    }
   ],
   "source": [
    "urls"
   ]
  },
  {
   "cell_type": "code",
   "execution_count": 30,
   "metadata": {
    "collapsed": false
   },
   "outputs": [
    {
     "name": "stdout",
     "output_type": "stream",
     "text": [
      "/Users/damoncrockett/Desktop/tmp/000.gist\n",
      "/Users/damoncrockett/Desktop/tmp/001.gist\n",
      "/Users/damoncrockett/Desktop/tmp/002.gist\n",
      "/Users/damoncrockett/Desktop/tmp/003.gist\n",
      "/Users/damoncrockett/Desktop/tmp/004.gist\n",
      "/Users/damoncrockett/Desktop/tmp/005.gist\n",
      "/Users/damoncrockett/Desktop/tmp/006.gist\n",
      "/Users/damoncrockett/Desktop/tmp/007.gist\n",
      "/Users/damoncrockett/Desktop/tmp/008.gist\n",
      "/Users/damoncrockett/Desktop/tmp/009.gist\n"
     ]
    }
   ],
   "source": [
    "for url in urls:\n",
    "    path = TARGET+os.path.basename(url)\n",
    "    print path\n",
    "\n",
    "    try:\n",
    "        r = requests.get(url,stream=True)\n",
    "        if r.status_code == 200:\n",
    "            with open(path, 'wb') as f:\n",
    "                r.raw.decode_content = True\n",
    "                shutil.copyfileobj(r.raw, f)\n",
    "    except Exception as e:\n",
    "        print e"
   ]
  },
  {
   "cell_type": "markdown",
   "metadata": {},
   "source": [
    "##WE ARE IN BUSINESS"
   ]
  }
 ],
 "metadata": {
  "kernelspec": {
   "display_name": "Python 2",
   "language": "python",
   "name": "python2"
  },
  "language_info": {
   "codemirror_mode": {
    "name": "ipython",
    "version": 2
   },
   "file_extension": ".py",
   "mimetype": "text/x-python",
   "name": "python",
   "nbconvert_exporter": "python",
   "pygments_lexer": "ipython2",
   "version": "2.7.10"
  }
 },
 "nbformat": 4,
 "nbformat_minor": 0
}
