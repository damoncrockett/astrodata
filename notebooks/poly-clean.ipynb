{
 "cells": [
  {
   "cell_type": "code",
   "execution_count": 1,
   "metadata": {
    "collapsed": true
   },
   "outputs": [],
   "source": [
    "import pandas as pd"
   ]
  },
  {
   "cell_type": "code",
   "execution_count": 2,
   "metadata": {
    "collapsed": true
   },
   "outputs": [],
   "source": [
    "df = pd.read_csv(\"./poly.csv\")"
   ]
  },
  {
   "cell_type": "code",
   "execution_count": 3,
   "metadata": {
    "collapsed": true
   },
   "outputs": [],
   "source": [
    "import glob\n",
    "import os"
   ]
  },
  {
   "cell_type": "code",
   "execution_count": 4,
   "metadata": {
    "collapsed": true
   },
   "outputs": [],
   "source": [
    "DIR = \"/Users/damoncrockett/Desktop/astrophotography_data/images/\""
   ]
  },
  {
   "cell_type": "code",
   "execution_count": 5,
   "metadata": {
    "collapsed": true
   },
   "outputs": [],
   "source": [
    "local_path = []\n",
    "for file in glob.glob(os.path.join(DIR,\"*.jpg\")):\n",
    "    local_path.append(file)"
   ]
  },
  {
   "cell_type": "code",
   "execution_count": 6,
   "metadata": {
    "collapsed": true
   },
   "outputs": [],
   "source": [
    "d = pd.DataFrame(local_path,columns=['local_path'])"
   ]
  },
  {
   "cell_type": "code",
   "execution_count": 8,
   "metadata": {
    "collapsed": false
   },
   "outputs": [],
   "source": [
    "d['basename'] = d.local_path.apply(os.path.basename)"
   ]
  },
  {
   "cell_type": "code",
   "execution_count": 11,
   "metadata": {
    "collapsed": false
   },
   "outputs": [],
   "source": [
    "df['basename'] = df.dl_url.apply(os.path.basename)"
   ]
  },
  {
   "cell_type": "code",
   "execution_count": 13,
   "metadata": {
    "collapsed": false
   },
   "outputs": [],
   "source": [
    "df.set_index('basename',inplace=True)"
   ]
  },
  {
   "cell_type": "code",
   "execution_count": 14,
   "metadata": {
    "collapsed": true
   },
   "outputs": [],
   "source": [
    "d = d.join(df,on='basename')"
   ]
  },
  {
   "cell_type": "code",
   "execution_count": 16,
   "metadata": {
    "collapsed": false
   },
   "outputs": [
    {
     "name": "stdout",
     "output_type": "stream",
     "text": [
      "<class 'pandas.core.frame.DataFrame'>\n",
      "Int64Index: 7540 entries, 0 to 7539\n",
      "Data columns (total 22 columns):\n",
      "local_path           7540 non-null object\n",
      "basename             7540 non-null object\n",
      "id                   7540 non-null int64\n",
      "user_nid             7540 non-null object\n",
      "date_taken           7540 non-null object\n",
      "date_uploaded        7540 non-null int64\n",
      "capture_device       4957 non-null object\n",
      "title                7476 non-null object\n",
      "descr                5460 non-null object\n",
      "user_tags            7540 non-null object\n",
      "lon                  5234 non-null float64\n",
      "lat                  5234 non-null float64\n",
      "accuracy             5234 non-null float64\n",
      "dl_url               7540 non-null object\n",
      "ext                  7540 non-null object\n",
      "astrophotography     7540 non-null bool\n",
      "astrofotografija     7540 non-null bool\n",
      "astrofotografia      7540 non-null bool\n",
      "astrofotografie      7540 non-null bool\n",
      "astrophotographie    7540 non-null bool\n",
      "astrofotografi       7540 non-null bool\n",
      "astro                7540 non-null bool\n",
      "dtypes: bool(7), float64(3), int64(2), object(10)\n",
      "memory usage: 994.0+ KB\n"
     ]
    }
   ],
   "source": [
    "d.info()"
   ]
  },
  {
   "cell_type": "code",
   "execution_count": 17,
   "metadata": {
    "collapsed": true
   },
   "outputs": [],
   "source": [
    "d.to_csv(\"./poly_clean.csv\",index=False)"
   ]
  },
  {
   "cell_type": "code",
   "execution_count": null,
   "metadata": {
    "collapsed": true
   },
   "outputs": [],
   "source": []
  }
 ],
 "metadata": {
  "kernelspec": {
   "display_name": "Python 2",
   "language": "python",
   "name": "python2"
  },
  "language_info": {
   "codemirror_mode": {
    "name": "ipython",
    "version": 2
   },
   "file_extension": ".py",
   "mimetype": "text/x-python",
   "name": "python",
   "nbconvert_exporter": "python",
   "pygments_lexer": "ipython2",
   "version": "2.7.10"
  }
 },
 "nbformat": 4,
 "nbformat_minor": 0
}
