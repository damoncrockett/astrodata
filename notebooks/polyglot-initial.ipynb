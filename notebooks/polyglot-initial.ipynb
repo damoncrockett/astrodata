{
 "cells": [
  {
   "cell_type": "code",
   "execution_count": 1,
   "metadata": {
    "collapsed": true
   },
   "outputs": [],
   "source": [
    "import pandas as pd"
   ]
  },
  {
   "cell_type": "code",
   "execution_count": 2,
   "metadata": {
    "collapsed": true
   },
   "outputs": [],
   "source": [
    "df = pd.read_csv(\"./astrophotography_polyglot.csv\")"
   ]
  },
  {
   "cell_type": "code",
   "execution_count": 3,
   "metadata": {
    "collapsed": false
   },
   "outputs": [
    {
     "data": {
      "text/plain": [
       "jpg    129815\n",
       "png       489\n",
       "gif       134\n",
       "dtype: int64"
      ]
     },
     "execution_count": 3,
     "metadata": {},
     "output_type": "execute_result"
    }
   ],
   "source": [
    "df.ext.value_counts()"
   ]
  },
  {
   "cell_type": "code",
   "execution_count": 43,
   "metadata": {
    "collapsed": false
   },
   "outputs": [
    {
     "data": {
      "text/plain": [
       "Index([u'id', u'user_nid', u'date_taken', u'date_uploaded', u'capture_device',\n",
       "       u'title', u'descr', u'user_tags', u'lon', u'lat', u'accuracy',\n",
       "       u'dl_url', u'ext', u'astrophotography', u'astrofotografía',\n",
       "       u'التصوير الفلكي', u'Astro', u'astroargazkigintzaren',\n",
       "       u'астрафатаграфіі', u'মহাকাশ আলোকচিত্র', u'astrofotografija',\n",
       "       u'астрофотография', u'astrofotografia', u'天文摄影', u'Luna',\n",
       "       u'astrofotografii', u'astrofotografering', u'astrofotografie',\n",
       "       u'astrofotograafias', u'astrophotographie', u'Astrofotografie',\n",
       "       u'αστροφωτογράφηση', u'astrofotografi', u'אסטרונומי', u'csillagászati',\n",
       "       u'stjörnuljósmyndakeppni', u'Astrophotography', u'天体写真', u'천체',\n",
       "       u'astrofotogrāfija', u'Astrofotografija', u'Spektrographie', u'astro',\n",
       "       u'ستورپوهنې', u'عکس برداری از ستارگان برای تحقیقات فضایی',\n",
       "       u'астрофотографија', u'තාරකා ඡායාරූප', u'астрофотографія',\n",
       "       u'astrophotography کے', u'אַסטראָפאָטאָגראַפי'],\n",
       "      dtype='object')"
      ]
     },
     "execution_count": 43,
     "metadata": {},
     "output_type": "execute_result"
    }
   ],
   "source": [
    "df.columns"
   ]
  },
  {
   "cell_type": "code",
   "execution_count": 44,
   "metadata": {
    "collapsed": false
   },
   "outputs": [],
   "source": [
    "tags = list(df.columns[13:]) # just the astro tags"
   ]
  },
  {
   "cell_type": "code",
   "execution_count": 45,
   "metadata": {
    "collapsed": false
   },
   "outputs": [
    {
     "name": "stdout",
     "output_type": "stream",
     "text": [
      "astrophotography\n",
      "Astro\n",
      "astrofotografija\n",
      "astrofotografia\n",
      "astrofotografie\n",
      "astrophotographie\n",
      "astrofotografi\n",
      "astro\n"
     ]
    }
   ],
   "source": [
    "active_tags = []\n",
    "\n",
    "for tag in tags:\n",
    "    tmp = df[tag]\n",
    "    counts = tmp.value_counts()\n",
    "    if len(counts) > 1:\n",
    "        print tag\n",
    "        active_tags.append(tag)"
   ]
  },
  {
   "cell_type": "code",
   "execution_count": 46,
   "metadata": {
    "collapsed": false
   },
   "outputs": [
    {
     "data": {
      "text/plain": [
       "['astrophotography',\n",
       " 'Astro',\n",
       " 'astrofotografija',\n",
       " 'astrofotografia',\n",
       " 'astrofotografie',\n",
       " 'astrophotographie',\n",
       " 'astrofotografi',\n",
       " 'astro']"
      ]
     },
     "execution_count": 46,
     "metadata": {},
     "output_type": "execute_result"
    }
   ],
   "source": [
    "active_tags"
   ]
  },
  {
   "cell_type": "code",
   "execution_count": 47,
   "metadata": {
    "collapsed": false
   },
   "outputs": [
    {
     "name": "stdout",
     "output_type": "stream",
     "text": [
      "astrophotography 5429\n",
      "Astro 191\n",
      "astrofotografija 8\n",
      "astrofotografia 259\n",
      "astrofotografie 206\n",
      "astrophotographie 917\n",
      "astrofotografi 473\n",
      "astro 130247\n"
     ]
    }
   ],
   "source": [
    "for tag in active_tags:\n",
    "    count = len(df[df[tag]==True])\n",
    "    print tag, count"
   ]
  },
  {
   "cell_type": "code",
   "execution_count": 48,
   "metadata": {
    "collapsed": true
   },
   "outputs": [],
   "source": [
    "Astro = df[df.user_tags.str.contains(\"Astro,\")]"
   ]
  },
  {
   "cell_type": "code",
   "execution_count": 49,
   "metadata": {
    "collapsed": false
   },
   "outputs": [
    {
     "data": {
      "text/plain": [
       "Series([], Name: user_tags, dtype: object)"
      ]
     },
     "execution_count": 49,
     "metadata": {},
     "output_type": "execute_result"
    }
   ],
   "source": [
    "Astro.user_tags # ok so Astro always a stem unless solitary"
   ]
  },
  {
   "cell_type": "code",
   "execution_count": 50,
   "metadata": {
    "collapsed": true
   },
   "outputs": [],
   "source": [
    "for i in range(len(df)):\n",
    "    s = df.user_tags.loc[i]\n",
    "    if s==\"Astro\":\n",
    "        print i"
   ]
  },
  {
   "cell_type": "code",
   "execution_count": 51,
   "metadata": {
    "collapsed": true
   },
   "outputs": [],
   "source": [
    "active_tags.remove(\"Astro\") # Ok so Astro is never solitary"
   ]
  },
  {
   "cell_type": "code",
   "execution_count": 52,
   "metadata": {
    "collapsed": false
   },
   "outputs": [
    {
     "data": {
      "text/plain": [
       "['astrophotography',\n",
       " 'astrofotografija',\n",
       " 'astrofotografia',\n",
       " 'astrofotografie',\n",
       " 'astrophotographie',\n",
       " 'astrofotografi']"
      ]
     },
     "execution_count": 52,
     "metadata": {},
     "output_type": "execute_result"
    }
   ],
   "source": [
    "active_tags[:6]"
   ]
  },
  {
   "cell_type": "code",
   "execution_count": 53,
   "metadata": {
    "collapsed": false
   },
   "outputs": [],
   "source": [
    "idxs = []\n",
    "\n",
    "for tag in active_tags[:6]:\n",
    "    tmp = df[df[tag]==True]\n",
    "    idxs.append(list(tmp.index))"
   ]
  },
  {
   "cell_type": "code",
   "execution_count": 54,
   "metadata": {
    "collapsed": false
   },
   "outputs": [],
   "source": [
    "idxs = [item for sublist in idxs for item in sublist]"
   ]
  },
  {
   "cell_type": "code",
   "execution_count": 55,
   "metadata": {
    "collapsed": true
   },
   "outputs": [],
   "source": [
    "idxs = list(set(list(idxs)))"
   ]
  },
  {
   "cell_type": "code",
   "execution_count": 56,
   "metadata": {
    "collapsed": false
   },
   "outputs": [
    {
     "data": {
      "text/plain": [
       "5799"
      ]
     },
     "execution_count": 56,
     "metadata": {},
     "output_type": "execute_result"
    }
   ],
   "source": [
    "len(idxs)"
   ]
  },
  {
   "cell_type": "code",
   "execution_count": 57,
   "metadata": {
    "collapsed": false
   },
   "outputs": [
    {
     "data": {
      "text/plain": [
       "130438"
      ]
     },
     "execution_count": 57,
     "metadata": {},
     "output_type": "execute_result"
    }
   ],
   "source": [
    "len(df)"
   ]
  },
  {
   "cell_type": "code",
   "execution_count": 58,
   "metadata": {
    "collapsed": true
   },
   "outputs": [],
   "source": [
    "for i in range(len(df)):\n",
    "    l = df.user_tags.loc[i].split(\",\")\n",
    "    if \"astro\" in l: # to see whether astro is only ever a stem or component\n",
    "        idxs.append(i)"
   ]
  },
  {
   "cell_type": "code",
   "execution_count": 59,
   "metadata": {
    "collapsed": true
   },
   "outputs": [],
   "source": [
    "idxs = list(set(list(idxs)))"
   ]
  },
  {
   "cell_type": "code",
   "execution_count": 60,
   "metadata": {
    "collapsed": false
   },
   "outputs": [
    {
     "data": {
      "text/plain": [
       "7615"
      ]
     },
     "execution_count": 60,
     "metadata": {},
     "output_type": "execute_result"
    }
   ],
   "source": [
    "len(idxs)"
   ]
  },
  {
   "cell_type": "code",
   "execution_count": 61,
   "metadata": {
    "collapsed": false
   },
   "outputs": [
    {
     "data": {
      "text/plain": [
       "1816"
      ]
     },
     "execution_count": 61,
     "metadata": {},
     "output_type": "execute_result"
    }
   ],
   "source": [
    "7615-5799"
   ]
  },
  {
   "cell_type": "code",
   "execution_count": 62,
   "metadata": {
    "collapsed": true
   },
   "outputs": [],
   "source": [
    "final = df.loc[idxs]"
   ]
  },
  {
   "cell_type": "code",
   "execution_count": 71,
   "metadata": {
    "collapsed": false
   },
   "outputs": [],
   "source": [
    "core = list(final.columns)[:13]"
   ]
  },
  {
   "cell_type": "code",
   "execution_count": 76,
   "metadata": {
    "collapsed": false
   },
   "outputs": [],
   "source": [
    "for item in active_tags:\n",
    "    core.append(item)"
   ]
  },
  {
   "cell_type": "code",
   "execution_count": 81,
   "metadata": {
    "collapsed": true
   },
   "outputs": [],
   "source": [
    "final = final[core]"
   ]
  },
  {
   "cell_type": "code",
   "execution_count": 82,
   "metadata": {
    "collapsed": false
   },
   "outputs": [
    {
     "name": "stdout",
     "output_type": "stream",
     "text": [
      "<class 'pandas.core.frame.DataFrame'>\n",
      "Int64Index: 7615 entries, 32770 to 65532\n",
      "Data columns (total 20 columns):\n",
      "id                   7615 non-null int64\n",
      "user_nid             7615 non-null object\n",
      "date_taken           7615 non-null object\n",
      "date_uploaded        7615 non-null int64\n",
      "capture_device       4957 non-null object\n",
      "title                7551 non-null object\n",
      "descr                5522 non-null object\n",
      "user_tags            7615 non-null object\n",
      "lon                  5268 non-null float64\n",
      "lat                  5268 non-null float64\n",
      "accuracy             5268 non-null float64\n",
      "dl_url               7615 non-null object\n",
      "ext                  7615 non-null object\n",
      "astrophotography     7615 non-null bool\n",
      "astrofotografija     7615 non-null bool\n",
      "astrofotografia      7615 non-null bool\n",
      "astrofotografie      7615 non-null bool\n",
      "astrophotographie    7615 non-null bool\n",
      "astrofotografi       7615 non-null bool\n",
      "astro                7615 non-null bool\n",
      "dtypes: bool(7), float64(3), int64(2), object(8)\n",
      "memory usage: 884.9+ KB\n"
     ]
    }
   ],
   "source": [
    "final.info()"
   ]
  },
  {
   "cell_type": "code",
   "execution_count": 84,
   "metadata": {
    "collapsed": true
   },
   "outputs": [],
   "source": [
    "final.to_csv(\"./poly.csv\",index=False)"
   ]
  },
  {
   "cell_type": "code",
   "execution_count": null,
   "metadata": {
    "collapsed": true
   },
   "outputs": [],
   "source": []
  },
  {
   "cell_type": "code",
   "execution_count": null,
   "metadata": {
    "collapsed": true
   },
   "outputs": [],
   "source": []
  },
  {
   "cell_type": "code",
   "execution_count": null,
   "metadata": {
    "collapsed": true
   },
   "outputs": [],
   "source": []
  },
  {
   "cell_type": "code",
   "execution_count": null,
   "metadata": {
    "collapsed": true
   },
   "outputs": [],
   "source": []
  },
  {
   "cell_type": "code",
   "execution_count": null,
   "metadata": {
    "collapsed": true
   },
   "outputs": [],
   "source": []
  }
 ],
 "metadata": {
  "kernelspec": {
   "display_name": "Python 2",
   "language": "python",
   "name": "python2"
  },
  "language_info": {
   "codemirror_mode": {
    "name": "ipython",
    "version": 2
   },
   "file_extension": ".py",
   "mimetype": "text/x-python",
   "name": "python",
   "nbconvert_exporter": "python",
   "pygments_lexer": "ipython2",
   "version": "2.7.10"
  }
 },
 "nbformat": 4,
 "nbformat_minor": 0
}
