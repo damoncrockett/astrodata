{
 "cells": [
  {
   "cell_type": "code",
   "execution_count": 1,
   "metadata": {
    "collapsed": true
   },
   "outputs": [],
   "source": [
    "import pandas as pd"
   ]
  },
  {
   "cell_type": "code",
   "execution_count": 2,
   "metadata": {
    "collapsed": true
   },
   "outputs": [],
   "source": [
    "df = pd.read_csv(\"./astro_clean_exif.csv\")"
   ]
  },
  {
   "cell_type": "code",
   "execution_count": 3,
   "metadata": {
    "collapsed": false
   },
   "outputs": [
    {
     "name": "stdout",
     "output_type": "stream",
     "text": [
      "<class 'pandas.core.frame.DataFrame'>\n",
      "Int64Index: 5429 entries, 0 to 5428\n",
      "Data columns (total 13 columns):\n",
      "id                5429 non-null int64\n",
      "user_nid          5429 non-null object\n",
      "user_nickname     5429 non-null object\n",
      "date_taken        5429 non-null object\n",
      "capture_device    3572 non-null object\n",
      "title             5406 non-null object\n",
      "descr             4170 non-null object\n",
      "user_tags         5429 non-null object\n",
      "lon               3951 non-null float64\n",
      "lat               3951 non-null float64\n",
      "accuracy          3951 non-null float64\n",
      "dl_url            5429 non-null object\n",
      "exif              4456 non-null object\n",
      "dtypes: float64(3), int64(1), object(9)\n",
      "memory usage: 593.8+ KB\n"
     ]
    }
   ],
   "source": [
    "df.info()"
   ]
  },
  {
   "cell_type": "code",
   "execution_count": 4,
   "metadata": {
    "collapsed": false
   },
   "outputs": [
    {
     "data": {
      "text/html": [
       "<div>\n",
       "<table border=\"1\" class=\"dataframe\">\n",
       "  <thead>\n",
       "    <tr style=\"text-align: right;\">\n",
       "      <th></th>\n",
       "      <th>capture_device</th>\n",
       "      <th>exif</th>\n",
       "    </tr>\n",
       "  </thead>\n",
       "  <tbody>\n",
       "    <tr>\n",
       "      <th>0</th>\n",
       "      <td>Canon+EOS+6D</td>\n",
       "      <td>Exif+IFD0.Date%2FTime:2013%3A09%3A28+01%3A29%3...</td>\n",
       "    </tr>\n",
       "    <tr>\n",
       "      <th>1</th>\n",
       "      <td>Canon+EOS+7D</td>\n",
       "      <td>Exif+IFD0.Date%2FTime:2011%3A03%3A20+10%3A35%3...</td>\n",
       "    </tr>\n",
       "    <tr>\n",
       "      <th>2</th>\n",
       "      <td>SONY+SLT-A33</td>\n",
       "      <td>Exif+IFD0.Date%2FTime:2014%3A03%3A03+22%3A16%3...</td>\n",
       "    </tr>\n",
       "    <tr>\n",
       "      <th>3</th>\n",
       "      <td>NIKON+CORPORATION+NIKON+D60</td>\n",
       "      <td>Exif+IFD0.Date%2FTime:2008%3A09%3A09+15%3A38%3...</td>\n",
       "    </tr>\n",
       "    <tr>\n",
       "      <th>4</th>\n",
       "      <td>Canon+EOS+REBEL+T3</td>\n",
       "      <td>Exif+IFD0.Date%2FTime:2013%3A02%3A12+16%3A56%3...</td>\n",
       "    </tr>\n",
       "  </tbody>\n",
       "</table>\n",
       "</div>"
      ],
      "text/plain": [
       "                capture_device  \\\n",
       "0                 Canon+EOS+6D   \n",
       "1                 Canon+EOS+7D   \n",
       "2                 SONY+SLT-A33   \n",
       "3  NIKON+CORPORATION+NIKON+D60   \n",
       "4           Canon+EOS+REBEL+T3   \n",
       "\n",
       "                                                exif  \n",
       "0  Exif+IFD0.Date%2FTime:2013%3A09%3A28+01%3A29%3...  \n",
       "1  Exif+IFD0.Date%2FTime:2011%3A03%3A20+10%3A35%3...  \n",
       "2  Exif+IFD0.Date%2FTime:2014%3A03%3A03+22%3A16%3...  \n",
       "3  Exif+IFD0.Date%2FTime:2008%3A09%3A09+15%3A38%3...  \n",
       "4  Exif+IFD0.Date%2FTime:2013%3A02%3A12+16%3A56%3...  "
      ]
     },
     "execution_count": 4,
     "metadata": {},
     "output_type": "execute_result"
    }
   ],
   "source": [
    "df[['capture_device','exif']].head(5)"
   ]
  },
  {
   "cell_type": "code",
   "execution_count": 6,
   "metadata": {
    "collapsed": false
   },
   "outputs": [],
   "source": [
    "tmp = df[df.exif.notnull()]"
   ]
  },
  {
   "cell_type": "code",
   "execution_count": 7,
   "metadata": {
    "collapsed": true
   },
   "outputs": [],
   "source": [
    "tmp.reset_index(drop=True,inplace=True)"
   ]
  },
  {
   "cell_type": "code",
   "execution_count": 9,
   "metadata": {
    "collapsed": false
   },
   "outputs": [],
   "source": [
    "l = []\n",
    "for i in range(len(tmp)):\n",
    "    exif = tmp.exif.loc[i]\n",
    "    l.append(len(exif.split(\",\")))"
   ]
  },
  {
   "cell_type": "code",
   "execution_count": 10,
   "metadata": {
    "collapsed": true
   },
   "outputs": [],
   "source": [
    "from collections import Counter"
   ]
  },
  {
   "cell_type": "code",
   "execution_count": 11,
   "metadata": {
    "collapsed": false
   },
   "outputs": [
    {
     "data": {
      "text/plain": [
       "Counter({15: 585, 54: 191, 48: 174, 16: 171, 40: 160, 21: 117, 43: 101, 38: 94, 45: 94, 44: 93, 46: 87, 35: 84, 51: 78, 39: 76, 82: 74, 41: 72, 49: 69, 53: 65, 42: 64, 37: 54, 50: 54, 36: 52, 47: 50, 33: 48, 67: 47, 14: 44, 81: 43, 52: 42, 60: 41, 94: 41, 63: 40, 70: 40, 118: 40, 13: 39, 27: 39, 31: 39, 57: 39, 58: 39, 17: 34, 30: 32, 34: 32, 80: 32, 18: 31, 24: 31, 32: 29, 72: 28, 110: 28, 6: 26, 29: 26, 10: 25, 66: 25, 106: 25, 20: 23, 112: 23, 116: 23, 5: 22, 59: 22, 108: 22, 28: 21, 55: 21, 104: 21, 123: 21, 19: 20, 22: 20, 56: 20, 79: 20, 122: 20, 25: 19, 2: 18, 23: 18, 109: 18, 12: 17, 61: 17, 87: 16, 111: 16, 115: 16, 9: 15, 62: 15, 103: 15, 114: 15, 120: 15, 78: 14, 77: 13, 7: 11, 8: 11, 92: 11, 119: 9, 3: 8, 73: 8, 74: 8, 98: 7, 105: 7, 113: 7, 117: 7, 121: 7, 1: 6, 4: 6, 26: 6, 107: 6, 11: 5, 65: 5, 84: 5, 86: 5, 91: 5, 102: 5, 124: 5, 64: 4, 83: 4, 76: 3, 89: 3, 95: 3, 99: 3, 134: 3, 88: 2, 93: 2, 96: 2, 101: 2, 71: 1, 75: 1, 85: 1, 90: 1, 126: 1})"
      ]
     },
     "execution_count": 11,
     "metadata": {},
     "output_type": "execute_result"
    }
   ],
   "source": [
    "Counter(l)"
   ]
  },
  {
   "cell_type": "code",
   "execution_count": null,
   "metadata": {
    "collapsed": true
   },
   "outputs": [],
   "source": []
  }
 ],
 "metadata": {
  "kernelspec": {
   "display_name": "Python 2",
   "language": "python",
   "name": "python2"
  },
  "language_info": {
   "codemirror_mode": {
    "name": "ipython",
    "version": 2
   },
   "file_extension": ".py",
   "mimetype": "text/x-python",
   "name": "python",
   "nbconvert_exporter": "python",
   "pygments_lexer": "ipython2",
   "version": "2.7.10"
  }
 },
 "nbformat": 4,
 "nbformat_minor": 0
}
