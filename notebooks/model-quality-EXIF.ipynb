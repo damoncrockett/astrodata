{
 "cells": [
  {
   "cell_type": "code",
   "execution_count": 18,
   "metadata": {
    "collapsed": true
   },
   "outputs": [],
   "source": [
    "import pandas as pd"
   ]
  },
  {
   "cell_type": "code",
   "execution_count": 19,
   "metadata": {
    "collapsed": true
   },
   "outputs": [],
   "source": [
    "d = pd.read_csv(\"./model_quality.csv\")"
   ]
  },
  {
   "cell_type": "code",
   "execution_count": 20,
   "metadata": {
    "collapsed": false
   },
   "outputs": [
    {
     "name": "stdout",
     "output_type": "stream",
     "text": [
      "<class 'pandas.core.frame.DataFrame'>\n",
      "Int64Index: 310 entries, 0 to 309\n",
      "Data columns (total 8 columns):\n",
      "model    310 non-null object\n",
      "count    310 non-null int64\n",
      "year     302 non-null float64\n",
      "type     307 non-null object\n",
      "stype    295 non-null object\n",
      "size     283 non-null float64\n",
      "emp      296 non-null float64\n",
      "make     309 non-null object\n",
      "dtypes: float64(3), int64(1), object(4)\n",
      "memory usage: 21.8+ KB\n"
     ]
    }
   ],
   "source": [
    "d.info()"
   ]
  },
  {
   "cell_type": "code",
   "execution_count": 21,
   "metadata": {
    "collapsed": true
   },
   "outputs": [],
   "source": [
    "df = pd.read_csv(\"./astro_tag_exif_autotags_clean.csv\")"
   ]
  },
  {
   "cell_type": "code",
   "execution_count": 22,
   "metadata": {
    "collapsed": false
   },
   "outputs": [
    {
     "name": "stdout",
     "output_type": "stream",
     "text": [
      "<class 'pandas.core.frame.DataFrame'>\n",
      "Int64Index: 5962 entries, 0 to 5961\n",
      "Data columns (total 12 columns):\n",
      "local_path        5962 non-null object\n",
      "id                5962 non-null int64\n",
      "user_nid          5962 non-null object\n",
      "date_taken        5962 non-null object\n",
      "capture_device    3915 non-null object\n",
      "lon               4353 non-null float64\n",
      "lat               4353 non-null float64\n",
      "autotags          5907 non-null object\n",
      "ISO               3616 non-null object\n",
      "shutter           3734 non-null object\n",
      "aperture          3340 non-null object\n",
      "focal             3485 non-null float64\n",
      "dtypes: float64(3), int64(1), object(8)\n",
      "memory usage: 605.5+ KB\n"
     ]
    }
   ],
   "source": [
    "df.info()"
   ]
  },
  {
   "cell_type": "code",
   "execution_count": 23,
   "metadata": {
    "collapsed": false
   },
   "outputs": [],
   "source": [
    "d.rename(columns={\"model\":\"capture_device\"},inplace=True)"
   ]
  },
  {
   "cell_type": "code",
   "execution_count": 24,
   "metadata": {
    "collapsed": true
   },
   "outputs": [],
   "source": [
    "d.set_index(\"capture_device\",inplace=True)"
   ]
  },
  {
   "cell_type": "code",
   "execution_count": 25,
   "metadata": {
    "collapsed": true
   },
   "outputs": [],
   "source": [
    "df = df.join(d,on=\"capture_device\")"
   ]
  },
  {
   "cell_type": "code",
   "execution_count": 26,
   "metadata": {
    "collapsed": false
   },
   "outputs": [
    {
     "name": "stdout",
     "output_type": "stream",
     "text": [
      "<class 'pandas.core.frame.DataFrame'>\n",
      "Int64Index: 5962 entries, 0 to 5961\n",
      "Data columns (total 19 columns):\n",
      "local_path        5962 non-null object\n",
      "id                5962 non-null int64\n",
      "user_nid          5962 non-null object\n",
      "date_taken        5962 non-null object\n",
      "capture_device    3915 non-null object\n",
      "lon               4353 non-null float64\n",
      "lat               4353 non-null float64\n",
      "autotags          5907 non-null object\n",
      "ISO               3616 non-null object\n",
      "shutter           3734 non-null object\n",
      "aperture          3340 non-null object\n",
      "focal             3485 non-null float64\n",
      "count             3915 non-null float64\n",
      "year              3892 non-null float64\n",
      "type              3909 non-null object\n",
      "stype             3878 non-null object\n",
      "size              3856 non-null float64\n",
      "emp               3878 non-null float64\n",
      "make              3914 non-null object\n",
      "dtypes: float64(7), int64(1), object(11)\n",
      "memory usage: 931.6+ KB\n"
     ]
    }
   ],
   "source": [
    "df.info()"
   ]
  },
  {
   "cell_type": "code",
   "execution_count": 31,
   "metadata": {
    "collapsed": true
   },
   "outputs": [],
   "source": [
    "df.to_csv(\"./astro_tag_exif_autotags_clean_quality.csv\",index=False)"
   ]
  }
 ],
 "metadata": {
  "kernelspec": {
   "display_name": "Python 2",
   "language": "python",
   "name": "python2"
  },
  "language_info": {
   "codemirror_mode": {
    "name": "ipython",
    "version": 2
   },
   "file_extension": ".py",
   "mimetype": "text/x-python",
   "name": "python",
   "nbconvert_exporter": "python",
   "pygments_lexer": "ipython2",
   "version": "2.7.10"
  }
 },
 "nbformat": 4,
 "nbformat_minor": 0
}
