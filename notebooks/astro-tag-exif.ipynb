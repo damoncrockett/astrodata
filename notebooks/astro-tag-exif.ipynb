{
 "cells": [
  {
   "cell_type": "code",
   "execution_count": 176,
   "metadata": {
    "collapsed": true
   },
   "outputs": [],
   "source": [
    "import pandas as pd\n",
    "import numpy as np"
   ]
  },
  {
   "cell_type": "code",
   "execution_count": 177,
   "metadata": {
    "collapsed": true
   },
   "outputs": [],
   "source": [
    "df = pd.read_csv(\"./astro_tag_exif_autotags.csv\")"
   ]
  },
  {
   "cell_type": "code",
   "execution_count": 178,
   "metadata": {
    "collapsed": true
   },
   "outputs": [],
   "source": [
    "del df['x']\n",
    "del df['y']\n",
    "del df['ext']\n",
    "del df['astro']\n",
    "del df['astrophotography']\n",
    "del df['astrofotografia']\n",
    "del df['astrofotografi']\n",
    "del df['astrofotografie']\n",
    "del df['astrophotographie']\n",
    "del df['astrofotografija']\n",
    "del df['title']\n",
    "del df['descr']\n",
    "del df['accuracy']\n",
    "del df['dl_url']"
   ]
  },
  {
   "cell_type": "code",
   "execution_count": 179,
   "metadata": {
    "collapsed": false
   },
   "outputs": [],
   "source": [
    "df.exif = df.exif.map(lambda x: x.split(\",\"),na_action=\"ignore\")"
   ]
  },
  {
   "cell_type": "code",
   "execution_count": 180,
   "metadata": {
    "collapsed": false
   },
   "outputs": [],
   "source": [
    "iso = []\n",
    "for l in df.exif:\n",
    "    tmp = []\n",
    "    try:\n",
    "        for item in l:\n",
    "            if \"SubIFD.ISO\" in item:\n",
    "                tmp.append(item.split(\":\")[1])\n",
    "        iso.append(tmp[0])\n",
    "    except:\n",
    "        iso.append(np.nan)"
   ]
  },
  {
   "cell_type": "code",
   "execution_count": 181,
   "metadata": {
    "collapsed": false
   },
   "outputs": [],
   "source": [
    "shutter = []\n",
    "for l in df.exif:\n",
    "    tmp = []\n",
    "    try:\n",
    "        for item in l:\n",
    "            if \"SubIFD.Exposure+Time\" in item:\n",
    "                tmp.append(item.split(\":\")[1].split(\"+\")[0])\n",
    "        shutter.append(tmp[0])\n",
    "    except:\n",
    "        shutter.append(np.nan)"
   ]
  },
  {
   "cell_type": "code",
   "execution_count": 182,
   "metadata": {
    "collapsed": false
   },
   "outputs": [],
   "source": [
    "f = []\n",
    "for l in df.exif:\n",
    "    tmp = []\n",
    "    try:\n",
    "        for item in l:\n",
    "            if \"SubIFD.F-Number\" in item:\n",
    "                tmp.append(item.split(\":\")[1].lstrip(\"F\"))\n",
    "        f.append(tmp[0])\n",
    "    except:\n",
    "        f.append(np.nan)"
   ]
  },
  {
   "cell_type": "code",
   "execution_count": 183,
   "metadata": {
    "collapsed": false
   },
   "outputs": [],
   "source": [
    "focal = []\n",
    "for l in df.exif:\n",
    "    tmp = []\n",
    "    try:\n",
    "        for item in l:\n",
    "            if \"SubIFD.Focal+Length:\" in item:\n",
    "                tmp.append(item.split(\":\")[1].split(\"+\")[0])\n",
    "        focal.append(tmp[0])\n",
    "    except:\n",
    "        focal.append(np.nan)"
   ]
  },
  {
   "cell_type": "code",
   "execution_count": 184,
   "metadata": {
    "collapsed": false
   },
   "outputs": [],
   "source": [
    "df['ISO'] = iso\n",
    "df['shutter'] = shutter\n",
    "df['aperture'] = f\n",
    "df['focal'] = focal"
   ]
  },
  {
   "cell_type": "code",
   "execution_count": 185,
   "metadata": {
    "collapsed": false
   },
   "outputs": [],
   "source": [
    "del df['exif']"
   ]
  },
  {
   "cell_type": "code",
   "execution_count": 186,
   "metadata": {
    "collapsed": false
   },
   "outputs": [],
   "source": [
    "del df['date_uploaded']"
   ]
  },
  {
   "cell_type": "code",
   "execution_count": 187,
   "metadata": {
    "collapsed": false
   },
   "outputs": [],
   "source": [
    "del df['basename']"
   ]
  },
  {
   "cell_type": "code",
   "execution_count": 188,
   "metadata": {
    "collapsed": false
   },
   "outputs": [],
   "source": [
    "del df['user_tags']"
   ]
  },
  {
   "cell_type": "code",
   "execution_count": 189,
   "metadata": {
    "collapsed": false
   },
   "outputs": [
    {
     "name": "stdout",
     "output_type": "stream",
     "text": [
      "<class 'pandas.core.frame.DataFrame'>\n",
      "Int64Index: 5962 entries, 0 to 5961\n",
      "Data columns (total 12 columns):\n",
      "local_path        5962 non-null object\n",
      "id                5962 non-null int64\n",
      "user_nid          5962 non-null object\n",
      "date_taken        5962 non-null object\n",
      "capture_device    3915 non-null object\n",
      "lon               4353 non-null float64\n",
      "lat               4353 non-null float64\n",
      "autotags          5907 non-null object\n",
      "ISO               3616 non-null object\n",
      "shutter           3734 non-null object\n",
      "aperture          3340 non-null object\n",
      "focal             3485 non-null object\n",
      "dtypes: float64(2), int64(1), object(9)\n",
      "memory usage: 605.5+ KB\n"
     ]
    }
   ],
   "source": [
    "df.info()"
   ]
  },
  {
   "cell_type": "code",
   "execution_count": 190,
   "metadata": {
    "collapsed": true
   },
   "outputs": [],
   "source": [
    "df.to_csv(\"./astro_tag_exif_autotags_clean.csv\",index=False)"
   ]
  },
  {
   "cell_type": "code",
   "execution_count": null,
   "metadata": {
    "collapsed": true
   },
   "outputs": [],
   "source": []
  }
 ],
 "metadata": {
  "kernelspec": {
   "display_name": "Python 2",
   "language": "python",
   "name": "python2"
  },
  "language_info": {
   "codemirror_mode": {
    "name": "ipython",
    "version": 2
   },
   "file_extension": ".py",
   "mimetype": "text/x-python",
   "name": "python",
   "nbconvert_exporter": "python",
   "pygments_lexer": "ipython2",
   "version": "2.7.10"
  }
 },
 "nbformat": 4,
 "nbformat_minor": 0
}
