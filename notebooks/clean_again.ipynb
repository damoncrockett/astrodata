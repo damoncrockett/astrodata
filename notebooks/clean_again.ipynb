{
 "cells": [
  {
   "cell_type": "code",
   "execution_count": 33,
   "metadata": {
    "collapsed": true
   },
   "outputs": [],
   "source": [
    "import pandas as pd"
   ]
  },
  {
   "cell_type": "code",
   "execution_count": 34,
   "metadata": {
    "collapsed": true
   },
   "outputs": [],
   "source": [
    "df = pd.read_csv(\"./astro_clean_exif_hash_bf_RGB_autotags_places.csv\")"
   ]
  },
  {
   "cell_type": "code",
   "execution_count": 35,
   "metadata": {
    "collapsed": false
   },
   "outputs": [
    {
     "name": "stdout",
     "output_type": "stream",
     "text": [
      "<class 'pandas.core.frame.DataFrame'>\n",
      "Int64Index: 5431 entries, 0 to 5430\n",
      "Data columns (total 18 columns):\n",
      "id                5431 non-null int64\n",
      "user_nid          5431 non-null object\n",
      "user_nickname     5431 non-null object\n",
      "date_taken        5431 non-null object\n",
      "capture_device    3573 non-null object\n",
      "title             5408 non-null object\n",
      "descr             4171 non-null object\n",
      "user_tags         5431 non-null object\n",
      "lon               3952 non-null float64\n",
      "lat               3952 non-null float64\n",
      "accuracy          3952 non-null float64\n",
      "dl_url            5431 non-null object\n",
      "exif              4458 non-null object\n",
      "hash              5431 non-null object\n",
      "bf                5292 non-null object\n",
      "rgb               5292 non-null object\n",
      "autotags          5362 non-null object\n",
      "places            3946 non-null object\n",
      "dtypes: float64(3), int64(1), object(14)\n",
      "memory usage: 806.2+ KB\n"
     ]
    }
   ],
   "source": [
    "df.info()"
   ]
  },
  {
   "cell_type": "code",
   "execution_count": 36,
   "metadata": {
    "collapsed": true
   },
   "outputs": [],
   "source": [
    "import os"
   ]
  },
  {
   "cell_type": "code",
   "execution_count": 37,
   "metadata": {
    "collapsed": true
   },
   "outputs": [],
   "source": [
    "df['basename'] = df.dl_url.apply(os.path.basename)"
   ]
  },
  {
   "cell_type": "code",
   "execution_count": 38,
   "metadata": {
    "collapsed": false
   },
   "outputs": [],
   "source": [
    "import glob"
   ]
  },
  {
   "cell_type": "code",
   "execution_count": 39,
   "metadata": {
    "collapsed": true
   },
   "outputs": [],
   "source": [
    "DIR = \"/Users/damoncrockett/Desktop/astrophotography_data/\""
   ]
  },
  {
   "cell_type": "code",
   "execution_count": 40,
   "metadata": {
    "collapsed": true
   },
   "outputs": [],
   "source": [
    "l = []\n",
    "for file in glob.glob(os.path.join(DIR+\"images/\",\"*.*\")):\n",
    "    l.append(file)"
   ]
  },
  {
   "cell_type": "code",
   "execution_count": 41,
   "metadata": {
    "collapsed": false
   },
   "outputs": [],
   "source": [
    "df['local_path'] = df.basename.map(lambda x: DIR + \"images/\" + x)"
   ]
  },
  {
   "cell_type": "code",
   "execution_count": 42,
   "metadata": {
    "collapsed": false
   },
   "outputs": [
    {
     "data": {
      "text/plain": [
       "5431"
      ]
     },
     "execution_count": 42,
     "metadata": {},
     "output_type": "execute_result"
    }
   ],
   "source": [
    "len(df)"
   ]
  },
  {
   "cell_type": "code",
   "execution_count": 43,
   "metadata": {
    "collapsed": false
   },
   "outputs": [],
   "source": [
    "df = df[df.local_path.isin(l)]"
   ]
  },
  {
   "cell_type": "code",
   "execution_count": 44,
   "metadata": {
    "collapsed": false
   },
   "outputs": [
    {
     "data": {
      "text/plain": [
       "5377"
      ]
     },
     "execution_count": 44,
     "metadata": {},
     "output_type": "execute_result"
    }
   ],
   "source": [
    "len(df)"
   ]
  },
  {
   "cell_type": "code",
   "execution_count": 45,
   "metadata": {
    "collapsed": false
   },
   "outputs": [
    {
     "name": "stdout",
     "output_type": "stream",
     "text": [
      "<class 'pandas.core.frame.DataFrame'>\n",
      "Int64Index: 5377 entries, 0 to 5430\n",
      "Data columns (total 20 columns):\n",
      "id                5377 non-null int64\n",
      "user_nid          5377 non-null object\n",
      "user_nickname     5377 non-null object\n",
      "date_taken        5377 non-null object\n",
      "capture_device    3573 non-null object\n",
      "title             5354 non-null object\n",
      "descr             4125 non-null object\n",
      "user_tags         5377 non-null object\n",
      "lon               3924 non-null float64\n",
      "lat               3924 non-null float64\n",
      "accuracy          3924 non-null float64\n",
      "dl_url            5377 non-null object\n",
      "exif              4458 non-null object\n",
      "hash              5377 non-null object\n",
      "bf                5292 non-null object\n",
      "rgb               5292 non-null object\n",
      "autotags          5313 non-null object\n",
      "places            3918 non-null object\n",
      "basename          5377 non-null object\n",
      "local_path        5377 non-null object\n",
      "dtypes: float64(3), int64(1), object(16)\n",
      "memory usage: 882.2+ KB\n"
     ]
    }
   ],
   "source": [
    "df.info()"
   ]
  },
  {
   "cell_type": "code",
   "execution_count": 46,
   "metadata": {
    "collapsed": true
   },
   "outputs": [],
   "source": [
    "df.to_csv(\"./pilot.csv\",index=False)"
   ]
  },
  {
   "cell_type": "code",
   "execution_count": 47,
   "metadata": {
    "collapsed": true
   },
   "outputs": [],
   "source": [
    "df = df[['id','hash','local_path','basename','date_taken','user_tags','exif','bf','rgb','autotags']]"
   ]
  },
  {
   "cell_type": "code",
   "execution_count": 48,
   "metadata": {
    "collapsed": false
   },
   "outputs": [
    {
     "name": "stdout",
     "output_type": "stream",
     "text": [
      "<class 'pandas.core.frame.DataFrame'>\n",
      "Int64Index: 5377 entries, 0 to 5430\n",
      "Data columns (total 10 columns):\n",
      "id            5377 non-null int64\n",
      "hash          5377 non-null object\n",
      "local_path    5377 non-null object\n",
      "basename      5377 non-null object\n",
      "date_taken    5377 non-null object\n",
      "user_tags     5377 non-null object\n",
      "exif          4458 non-null object\n",
      "bf            5292 non-null object\n",
      "rgb           5292 non-null object\n",
      "autotags      5313 non-null object\n",
      "dtypes: int64(1), object(9)\n",
      "memory usage: 462.1+ KB\n"
     ]
    }
   ],
   "source": [
    "df.info()"
   ]
  },
  {
   "cell_type": "code",
   "execution_count": 49,
   "metadata": {
    "collapsed": true
   },
   "outputs": [],
   "source": [
    "df = df[df.exif.notnull()]"
   ]
  },
  {
   "cell_type": "code",
   "execution_count": 50,
   "metadata": {
    "collapsed": false
   },
   "outputs": [
    {
     "name": "stdout",
     "output_type": "stream",
     "text": [
      "<class 'pandas.core.frame.DataFrame'>\n",
      "Int64Index: 4458 entries, 0 to 5430\n",
      "Data columns (total 10 columns):\n",
      "id            4458 non-null int64\n",
      "hash          4458 non-null object\n",
      "local_path    4458 non-null object\n",
      "basename      4458 non-null object\n",
      "date_taken    4458 non-null object\n",
      "user_tags     4458 non-null object\n",
      "exif          4458 non-null object\n",
      "bf            4373 non-null object\n",
      "rgb           4373 non-null object\n",
      "autotags      4415 non-null object\n",
      "dtypes: int64(1), object(9)\n",
      "memory usage: 383.1+ KB\n"
     ]
    }
   ],
   "source": [
    "df.info()"
   ]
  },
  {
   "cell_type": "code",
   "execution_count": 51,
   "metadata": {
    "collapsed": true
   },
   "outputs": [],
   "source": [
    "df = df[df.rgb.notnull()]"
   ]
  },
  {
   "cell_type": "code",
   "execution_count": 52,
   "metadata": {
    "collapsed": false
   },
   "outputs": [],
   "source": [
    "df = df[df.autotags.notnull()]"
   ]
  },
  {
   "cell_type": "code",
   "execution_count": 53,
   "metadata": {
    "collapsed": false
   },
   "outputs": [],
   "source": [
    "df.reset_index(drop=True,inplace=True)"
   ]
  },
  {
   "cell_type": "code",
   "execution_count": 55,
   "metadata": {
    "collapsed": false
   },
   "outputs": [],
   "source": [
    "df.to_csv(\"./pilot_notnull.csv\",index=False)"
   ]
  },
  {
   "cell_type": "code",
   "execution_count": 56,
   "metadata": {
    "collapsed": false
   },
   "outputs": [
    {
     "name": "stdout",
     "output_type": "stream",
     "text": [
      "<class 'pandas.core.frame.DataFrame'>\n",
      "Int64Index: 4333 entries, 0 to 4332\n",
      "Data columns (total 10 columns):\n",
      "id            4333 non-null int64\n",
      "hash          4333 non-null object\n",
      "local_path    4333 non-null object\n",
      "basename      4333 non-null object\n",
      "date_taken    4333 non-null object\n",
      "user_tags     4333 non-null object\n",
      "exif          4333 non-null object\n",
      "bf            4333 non-null object\n",
      "rgb           4333 non-null object\n",
      "autotags      4333 non-null object\n",
      "dtypes: int64(1), object(9)\n",
      "memory usage: 372.4+ KB\n"
     ]
    }
   ],
   "source": [
    "df.info()"
   ]
  },
  {
   "cell_type": "code",
   "execution_count": 57,
   "metadata": {
    "collapsed": true
   },
   "outputs": [],
   "source": [
    "df = df[['local_path','bf','rgb']]"
   ]
  },
  {
   "cell_type": "code",
   "execution_count": 58,
   "metadata": {
    "collapsed": true
   },
   "outputs": [],
   "source": [
    "df.to_csv(\"./pilot_notnull_features.csv\",index=False)"
   ]
  }
 ],
 "metadata": {
  "kernelspec": {
   "display_name": "Python 2",
   "language": "python",
   "name": "python2"
  },
  "language_info": {
   "codemirror_mode": {
    "name": "ipython",
    "version": 2
   },
   "file_extension": ".py",
   "mimetype": "text/x-python",
   "name": "python",
   "nbconvert_exporter": "python",
   "pygments_lexer": "ipython2",
   "version": "2.7.10"
  }
 },
 "nbformat": 4,
 "nbformat_minor": 0
}
